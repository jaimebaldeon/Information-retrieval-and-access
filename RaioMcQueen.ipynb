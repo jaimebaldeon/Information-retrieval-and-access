{
  "nbformat": 4,
  "nbformat_minor": 0,
  "metadata": {
    "colab": {
      "name": "RaioMcQueen",
      "provenance": [],
      "toc_visible": true,
      "include_colab_link": true
    },
    "kernelspec": {
      "name": "python3",
      "display_name": "Python 3"
    }
  },
  "cells": [
    {
      "cell_type": "markdown",
      "metadata": {
        "id": "view-in-github",
        "colab_type": "text"
      },
      "source": [
        "<a href=\"https://colab.research.google.com/github/jroots7/RAI/blob/master/RaioMcQueen.ipynb\" target=\"_parent\"><img src=\"https://colab.research.google.com/assets/colab-badge.svg\" alt=\"Open In Colab\"/></a>"
      ]
    },
    {
      "cell_type": "markdown",
      "metadata": {
        "id": "U4y8BbH8C1wh",
        "colab_type": "text"
      },
      "source": [
        "**Descomprimimos el ZIP y cogemos los nombres de los ficheros**"
      ]
    },
    {
      "cell_type": "code",
      "metadata": {
        "id": "zR6_kpjthZe1",
        "colab_type": "code",
        "outputId": "6e2d5942-2fd3-44a2-f7b0-5834e2b726e1",
        "colab": {
          "base_uri": "https://localhost:8080/",
          "height": 50
        }
      },
      "source": [
        "# importing required modules \n",
        "from zipfile import ZipFile \n",
        "\n",
        "# specifying the zip file name \n",
        "file_name = \"Ficheros(html).zip\"\n",
        "\n",
        "# opening the zip file in READ mode \n",
        "with ZipFile(file_name, 'r') as zip: \n",
        "\t# extracting the names of the files in the zip\n",
        "\tfile_names = zip.namelist()\n",
        "\t# extracting all the files \n",
        "\tprint('Extracting all the files now...') \n",
        "\tzip.extractall() \n",
        "\tprint('Done!') \n"
      ],
      "execution_count": 1,
      "outputs": [
        {
          "output_type": "stream",
          "text": [
            "Extracting all the files now...\n",
            "Done!\n"
          ],
          "name": "stdout"
        }
      ]
    },
    {
      "cell_type": "markdown",
      "metadata": {
        "id": "o-go_xVYDHDx",
        "colab_type": "text"
      },
      "source": [
        "**Leemos los ficheros y limpiamos los datos**"
      ]
    },
    {
      "cell_type": "code",
      "metadata": {
        "id": "lZhLGMpnh5h7",
        "colab_type": "code",
        "colab": {
          "base_uri": "https://localhost:8080/",
          "height": 50
        },
        "outputId": "d4e9a65a-10ba-4bcc-beb1-048e89df5a5c"
      },
      "source": [
        "import re\n",
        "clean_data = []\n",
        "print('Cleaning raw data...')\n",
        "for file_name in file_names:\n",
        "  #f = open(\"2010-42-103.html\", \"r\")\n",
        "  #print(f.read())\n",
        "  with open(file_name, 'r') as file:\n",
        "      rawdata = file.read().replace('\\n', '')\n",
        "      clean_script = re.compile('<script.*?</script>')\n",
        "      clean_script_data = re.sub(clean_script, '', rawdata)\n",
        "      clean_htmltags = re.compile('<.*?>')\n",
        "      clean_htmltags_data = re.sub(clean_htmltags, ' ', clean_script_data)\n",
        "      clean_data.append(re.sub('\\s+',' ',clean_htmltags_data))\n",
        "print('Done!')\n"
      ],
      "execution_count": 2,
      "outputs": [
        {
          "output_type": "stream",
          "text": [
            "Cleaning raw data...\n",
            "Done!\n"
          ],
          "name": "stdout"
        }
      ]
    },
    {
      "cell_type": "markdown",
      "metadata": {
        "id": "uXQ-DAhL539T",
        "colab_type": "text"
      },
      "source": [
        "**Creamos el corpus de todos los documentos**\n"
      ]
    },
    {
      "cell_type": "code",
      "metadata": {
        "id": "v9gt9h65lWds",
        "colab_type": "code",
        "outputId": "0d354a2e-2274-4eb4-8853-a233e5836135",
        "colab": {
          "base_uri": "https://localhost:8080/",
          "height": 121
        }
      },
      "source": [
        "corpus = clean_data\n",
        "corpus"
      ],
      "execution_count": 3,
      "outputs": [
        {
          "output_type": "execute_result",
          "data": {
            "text/plain": [
              "[' Gerard Salton: Facts, Discussion Forum, and Encyclopedia Article Home &nbsp;&nbsp;&nbsp;&nbsp;&nbsp; Discussion &nbsp;&nbsp;&nbsp;&nbsp;&nbsp; Topics &nbsp;&nbsp;&nbsp;&nbsp;&nbsp; Dictionary &nbsp;&nbsp;&nbsp;&nbsp;&nbsp; Almanac Signup &nbsp;&nbsp;&nbsp;&nbsp;&nbsp;&nbsp; Login Gerard Salton Gerard Salton Topic Home Discussion Discussion Ask a question about \\' Gerard Salton \\' Start a new discussion about \\' Gerard Salton \\' Answer questions from other users Full Discussion Forum &nbsp; Encyclopedia Gerard Salton (8 March, 1927&nbsp;in Nuremberg Nuremberg Nuremberg is a city in the German state of Bavaria, in the administrative region of Middle Franconia. It is situated on the Pegnitz river and the Rhine-Main-Danube Canal and is Franconia\\'s largest city. It is located about 170 kilometres north of Munich, at 49.27° N 11.5° E. The population is... &nbsp;- 28 August, 1995) was a Professor of Computer Science Computer science Computer science is the study of the theoretical foundations of information and computation, and of practical techniques for their implementation and application in computer systems. It is frequently described as the systematic study of algorithmic processes that create, describe and transform... &nbsp;at Cornell University Cornell University Cornell University is a private university located in Ithaca, New York, USA, that is a member of the Ivy League.Cornell counts more than 255,000 living alumni, 28 Rhodes Scholars and 41 Nobel laureates affiliated with the university as faculty or students... . Salton was perhaps the leading computer scientist working in the field of information retrieval Information retrieval Information retrieval is the science of searching for documents, for information within documents and for metadata about documents, as well as that of searching relational databases and the World Wide Web... &nbsp;during his time. His group at Cornell developed the SMART Information Retrieval System SMART Information Retrieval System The SMART Information Retrieval System is an information retrieval system developed at Cornell University in the 1960s... . Salton was born Gerhard Anton Sahlmann on March 8, 1927 in Nuremberg, Germany. He received a Bachelor\\'s (1950) and Master\\'s (1952) degree in mathematics from Brooklyn College Brooklyn College Brooklyn College is a senior college of the City University of New York, located in Brooklyn, New York.Established in 1930 by the New York City Board of Higher Education, the College had its beginnings as the Downtown Brooklyn branches of Hunter College and the City College of New York... , and a Ph.D. from Harvard Harvard University Harvard University is a private university located in Cambridge, Massachusetts and a member of the Ivy League. Founded in 1636 by the colonial Massachusetts legislature, Harvard is the oldest institution of higher learning in the United States and currently comprises ten separate academic units... &nbsp;in 1958, the last of Howard Aiken Howard Aiken Howard Hathaway Aiken was a pioneer in computing, being the primary engineer behind IBM\\'s Harvard Mark I computer.... \\'s doctoral students, and taught there until 1965, when he joined Cornell University Cornell University Cornell University is a private university located in Ithaca, New York, USA, that is a member of the Ivy League.Cornell counts more than 255,000 living alumni, 28 Rhodes Scholars and 41 Nobel laureates affiliated with the university as faculty or students... &nbsp;and co-founded its department of Computer Science. He was editor-in-chief of the Communications of the ACM Communications of the ACM Communications of the ACM is the flagship monthly journal of the Association for Computing Machinery . First published in 1957, CACM is sent to all ACM members, currently numbering about 80,000. The articles are intended for readers with backgrounds in all areas of computer science and information... &nbsp;and the Journal of the ACM Journal of the ACM The Journal of the ACM is the flagship scientific journal of the Association for Computing Machinery . It covers computer science in general, especially theoretical aspects.The journal has been published since 1954... , and chaired SIGIR SIGIR SIGIR may refer to:* Special Inspector General for Iraq Reconstruction* Special Interest Group on Information Retrieval, a Special Interest Group of the Association for Computing Machinery concerned about information retrieval... . Salton was an ACM Association for Computing Machinery The Association for Computing Machinery, or ACM, is a learned society for computing. It was founded in 1947 as the world\\'s first scientific and educational computing society. Its membership is more than 92,000 as of 2009... &nbsp;Fellow (elected 1995), received an Award of Merit from the American Society for Information Science&nbsp;(1989), and was the first recipient of the SIGIR SIGIR SIGIR may refer to:* Special Inspector General for Iraq Reconstruction* Special Interest Group on Information Retrieval, a Special Interest Group of the Association for Computing Machinery concerned about information retrieval... &nbsp;Award for outstanding contributions to study of information retrieval (1983) -- now called the Gerard Salton Award Gerard Salton Award The Gerard Salton Award is presented by the Association for Computing Machinery SIGIR every three years to an individual who has made \"significant, sustained and continuing contributions to research in information retrieval\"... . External links In Memoriam The Most Influential Paper Gerard Salton Never Wrote - This 2004 Library Trends paper by David Dubin serves as a historical review of the metamorphasis of the term discrimination value model (TDV) into the vector space model as an information retrieval model (VSM as an IR model). This paper calls into question what the Information Retrieval research community believed Salton\\'s vector space model was originally intended to model. What much later became an information retrieval model was originally a data-centric mathematical/computational model used as an explanatory device. In addition, Dubin\\'s paper points out that a 1975 Salton paper oft cited, does not exist but is probably a combination of two other papers, neither of which actually refer to the VSM as an IR model. ',\n",
              " ' Sewer Global Buyers, importers, wholesalers and distributors @import url(\"http://image.ec21.com/inc/css/style.css\"); Sign In | Join Free | Community Mail --> | Inquiry Basket () | Help Buy Now Sell Now Services My EC21 Home &gt; Sell Now &gt; Global Buyers &gt; Environment &gt; Sewer Global Buyers Sewer -Environment --All Categories ------------------------------- Agriculture Apparel Automobiles & Motorcycles Business Services Chemicals Computer Hardware & Software Construction & Real Estate Consumer Electronics Electrical Equipment & Supplies Electronic Components & Supplies Energy Environment Excess Inventory Fashion Accessories Food & Beverage Furniture & Furnishings General Industrial Equipment General Mechanical Components Gifts & Crafts Hardware Health & Medical Home & Garden Home Appliances Lights & Lighting Luggage, Bags & Cases Manufacturing & Processing Machinery Measurement & Analysis Instruments Minerals & Metallurgy Office & School Supplies Packaging & Paper Personal Care Printing & Publishing Rubber & Plastics Security & Protection Service Equipment Shoes & Accessories Sports & Entertainment Telecommunications Textiles & Leather Products Timepieces, Jewelry, Eyewear Tools Toys Transportation All Countries A.Samoa Afghanistan Albania Algeria Andorra Angola Anguilla Antarctica Antigua Barbuda Argentina Armenia Aruba Australia Austria Azerbaijan B.I.O.T. BR.ANTARC.T BR.VIRGIN IS. Bahamas Bahrain Bangladesh Barbados Belarus Belgium Belize Benin Bermuda Bhutan Bolivia Bosnia-Herzegowina Botswana Bouvet Island Brazil Brunei Bulgaria Burkina Faso Burundi C.Dominica CANTON&E. IS Cambodia Cameroon Canada Canal Zone Cape Verde Cayman Central African Republic Chad Chile China Christmas Island Cocos Islands Colombia Comoros Congo Cook Islands Costa Rica Cote D\\'ivoire Croatia Cuba Cyprus Czech Republic DRO.M.L Denmark Djibouti Dominican Rep. E.GUINEA East Timor Ecuador Egypt El Salvador Eritrea Estonia Ethiopia F.GUIANA F.POLYNESIA F.S.A.T Falkland Faroe Island Fiji Finland France Gabon Gambia Georgia Germany Ghana Gibraltar Greece Greenland Grenada Guadeloupe Guam Guatemala Guinea Guinea-Bissau Guyana H.M.ISL Haiti Honduras Hong Kong Hungary Iceland India Indonesia Iran Iraq Ireland Israel Italy Jamaica Japan Johnston Island Jordan Kazakhstan Kenya Kiribati Korea Korea, DPR Kuwait Kyrgyzstan Latvia Lebanon Lesotho Liberia Libya Liechtenstein Lithuania Luxembourg MIDWAY IS(US) Macao Macedonia Madagascar Malawi Malaysia Maldives Mali Malta Marshall Islands Martinique Mauritania Mauritius Mayotte Mexico Micronesia Moldova Monaco Mongolia Montserrat Morocco Mozambique Myanmar N. MARIANAS Namibia Nauru Nepal Netherlands Netherlands Antilles Neutral Zone New Caledonia New Hebrides New Zealand Nicaragua Niger Nigeria Niue Norfolk Island Norway Oman P.I.T.T Pakistan Palau Palestine Panama Papua New Guinea Paraguay Peru Phillippines Pitcairn Poland Polisario Portugal Puerto Rico Qatar Reunion Romania Russia Rwanda S. YEMEN S.J.M.I S.T&P.IS SOUTH GEORGIA ST.KITTS-NEVIS ST.LUCIA ST.P&M ST.VINCENT Samoa San Marino Saudi Arabia Senegal Seychelles Sierra Leone Singapore Slovakia Slovenia Solomon Islands Somalia South Africa Spain Sri Lanka St. Helena Sudan Suriname Swaziland Sweden Switzerland Syria T.Tobago Taiwan Tajikistan Tanzania Thailand Togo Tokelau Tonga Tunisia Turkey Turkmenistan Turks-Caicos Islands Tuvalu U.S.M.I UAE USA Uganda Ukraine United Kingdom Uruguay Uzbekistan VIRGIN IS.(US) Vanuatu Vatican City Venezuela Viet Nam W.A.F.I Wake Island Western Sahara Yemen Yugoslavia Zaire Zambia Zimbabwe Exclude Selected Country &nbsp; &nbsp;&nbsp;&nbsp; Over 1 Million Global Buyers Directory. Find Your Buyers Here! 1. Search by keywords or categories, then send your inquiries by clicking on “Inquire Now” button. 2. Group your interested buyers by clicking on “Add to Basket” button if you wish to make and customize your own buyer list. 3. To send your group inquiries, go to MyEC21 &gt; Premium Services &gt; Manage My Buyers 4. Your previous inquiry-sending activities will be marked as red text for a month. To see the full activity, go to Buyer Contact List . 5. How many inquiries can I send to buyers in this directory? Please see our Inquiry Sending Limit . 0 Buyers found in Environment &gt; Sewer &nbsp; &nbsp; Sorry, there were no matching results. Premium Seller Tools Trade PRO/ Trade OK Advertising on EC21 Order Credit Reports Order TradeVerify Basic Tool How to Sell? Post New Products Post Selling Leads Post Company Profile Trade Alert Get Listed EC21 is the largest global B2B marketplace. Global buyers find suppliers here every day. If you are a manufacturer or supplier who want more international buyers, join EC21 for free now, and get your products listed here. Email this page &nbsp;&nbsp;&nbsp;&nbsp;&nbsp; &nbsp;|&nbsp;&nbsp;&nbsp;&nbsp;&nbsp; Bookmark / Share this page Home &nbsp;|&nbsp; Buy Now &nbsp;|&nbsp; Sell Now &nbsp;|&nbsp; Services &nbsp;|&nbsp; My EC21 &nbsp;|&nbsp; Help &nbsp;|&nbsp; Community About Us &nbsp;|&nbsp; Advertise with Us &nbsp;|&nbsp; Agent Program &nbsp;|&nbsp; Site Map &nbsp;| &nbsp; Contact Us &nbsp;|&nbsp; Hot Products &nbsp;|&nbsp; Country Search &nbsp;|&nbsp; Premium Suppliers Terms &amp; Conditions &nbsp;|&nbsp; Privacy Policy &nbsp;|&nbsp; Online Trading Risks Copyright (c)1997-2010 EC21 Inc. All Rights Reserved.&nbsp; EC21 in Korean &nbsp;|&nbsp; Chinese ',\n",
              " ' Burnout Revenge: Facts, Discussion Forum, and Encyclopedia Article Home &nbsp;&nbsp;&nbsp;&nbsp;&nbsp; Discussion &nbsp;&nbsp;&nbsp;&nbsp;&nbsp; Topics &nbsp;&nbsp;&nbsp;&nbsp;&nbsp; Dictionary &nbsp;&nbsp;&nbsp;&nbsp;&nbsp; Almanac Signup &nbsp;&nbsp;&nbsp;&nbsp;&nbsp;&nbsp; Login Burnout Revenge Burnout Revenge Topic Home Discussion Discussion Ask a question about \\' Burnout Revenge \\' Start a new discussion about \\' Burnout Revenge \\' Answer questions from other users Full Discussion Forum &nbsp; Encyclopedia Burnout Revenge is the fourth video game&nbsp;in the Burnout Burnout (series) Burnout is a series of high-speed racing games for the PlayStation 2, PlayStation 3, PlayStation Portable, Xbox, Xbox 360, Nintendo DS, and Nintendo GameCube game consoles. Also, for the very first time, a PC version of the latest installment in the series, Burnout Paradise, has been released... series of racing games, released for the PlayStation 2 PlayStation 2 The PlayStation 2 is a sixth-generation video game console manufactured by Sony. The PS2 console is the sequel to the original PlayStation console. The successor to the PlayStation, and the predecessor to the PlayStation 3, the PlayStation 2 forms part of the PlayStation series of video game... &nbsp;and Xbox Xbox The Xbox is a video game console produced by Microsoft. It was Microsoft\\'s first foray into the gaming console market, and competed with Sony\\'s PlayStation 2, Sega\\'s Dreamcast, and Nintendo\\'s GameCube... &nbsp;on September 13, 2005 and Xbox 360 Xbox 360 The Xbox 360 is the second video game console produced by Microsoft, and the successor to the Xbox. The Xbox 360 competes with Sony\\'s PlayStation 3 and Nintendo\\'s Wii as part of the seventh generation of video game consoles.... &nbsp;on March 7, 2006, alongside the PlayStation Portable PlayStation Portable The PlayStation Portable is a handheld game console manufactured and marketed by Sony Computer Entertainment. Development of the console was announced during E3 2003, and it was unveiled on May 11, 2004 at a Sony press conference before E3&nbsp;2004... &nbsp;and Nintendo DS Nintendo DS The is a dual-screen handheld game console developed and manufactured by Nintendo. It was released in 2004 in Canada, the United States, and Japan. The console features a clamshell design, similar to the Game Boy Advance SP, with two LCD screens inside—with the bottom one being a touchscreen... &nbsp;title Burnout Legends Burnout Legends Burnout Legends is the fifth game in the popular Burnout franchise, specifically released for the PlayStation Portable on September 13, 2005, and the Nintendo DS on November 29, 2005. The game features many of the tracks and gameplay modes from the first three Burnout games, but repackaged for the... . Similar to its predecessor Burnout 3: Takedown Burnout 3: Takedown Burnout 3: Takedown is the third game in the Burnout series of video games. Released on September 7, 2004, developed by Criterion Games and published by Electronic Arts , the game drew critical acclaim and a large fanbase.A GameCube version was planned but was scrapped during development... , Revenge focuses on a mixture of racing in the midst of rush-hour traffic, and vehicular combat; players use the cars themselves as weapons. Revenge also expands on the combat side of its gameplay with new features such as \"traffic checking\" (ramming same-way traffic), Vertical Takedowns (landing on a rival car after the player\\'s car drives over a jump), a new game type (Traffic Attack) and significant changes to the gameplay of Crash mode (a game type where players attempt to cause as large a crash as possible). A sequel to Burnout Revenge , titled Burnout Paradise Burnout Paradise Burnout Paradise by Criterion Games is the seventh game in the Burnout video game series. It was released in January 2008 for PlayStation 3 and Xbox 360 and on February 5, 2009 on Microsoft Windows. It was also released on the PlayStation Store in September 2008 and via Xbox Live Marketplace\\'s... , was released for the PlayStation 3 PlayStation 3 The PlayStation 3 is the third home video game console produced by Sony Computer Entertainment, and the successor to the PlayStation 2 as part of the PlayStation series... &nbsp;and Xbox 360 Xbox 360 The Xbox 360 is the second video game console produced by Microsoft, and the successor to the Xbox. The Xbox 360 competes with Sony\\'s PlayStation 3 and Nintendo\\'s Wii as part of the seventh generation of video game consoles.... &nbsp;on January 22, 2008. Gameplay In Burnout Revenge , players compete in a range of racing game types with different aims. These take place within rush-hour traffic, and include circuit racing, Road Rage (where players cause as many rivals to crash as possible within a time limit, or until the player\\'s car is wrecked), Burning Lap (a single-lap, single-racer time attack mode), Eliminator (a circuit race where every thirty seconds, the last-placed racer\\'s car is detonated; the race continues until only one racer is left), and Crash (where the player is placed at a junction with the aim of accumulating as many \"Crash Dollars\" as possible). A new gameplay feature in Burnout Revenge is the ability to ram same-way small to medium traffic, known as \"traffic checking\", propelling the rammed car forward; the event in which a \"checked\" car hits a rival is considered a Takedown. Traffic checking is the focus of a new race type, Traffic Attack (whereby a player must earn a set amount of Crash Dollars through checking traffic), which can be used later on. During these events, players have access to a limited amount of boost which is acquired through various dangerous driving techniques, including but not limited to driving on the wrong side of the road, tailgating opponents and drifting. Unique to the series is the concept of battling other rivals; unlike other video games in the racing genre, players are encouraged, and sometimes even required, to ram rival cars and cause traffic to crash. Causing a rival to crash is referred to as a \"Takedown\", rewarding the player by extending the length of their boost gauge and completely refilling it. In designated events, boost can also be used to activate a \"Crashbreaker\" during a crash, detonating the car and causing other nearby cars to crash. When the rival car takes the player down, the player will have to take the ultimate REVENGE by taking down the revenge rivals (which the arrow at the top of the car turned red) is referred to as \"Revenge Takedown\". In the main single-player game mode, players compete in a world tour consisting of 169 events across three continents, divided into a series of 10 \"ranks\". The ranks which a player has access to is determined by their \"Revenge Rank\", which increases after completing events. By increasing their Rank sufficiently, the player \"ranks up\" and unlocks the next rank of events. The game also features support for multiplayer gameplay, both online and offline. In addition to the racing modes, the game features three types of Crash modes: Crash Battle (multiple players attempt a junction at the same time), Crash Party (players take turns at attempting junctions across several rounds), and Crash Tour (a golf-like version of Crash Party, with players attempting to accumulate a certain amount of Crash Dollars in as few attempts as possible; after the last round ends the player with the lowest score wins). Xbox 360 version The Xbox 360 Xbox 360 The Xbox 360 is the second video game console produced by Microsoft, and the successor to the Xbox. The Xbox 360 competes with Sony\\'s PlayStation 3 and Nintendo\\'s Wii as part of the seventh generation of video game consoles.... &nbsp;version of Burnout Revenge includes several new features and improves the graphics of the game to utilize the power of the next-gen console. The game includes 10 new crash junctions on the Crash Tour. It also includes a vastly improved online mode that introduces online Revenge Rivals. This system allows players to keep track of their number of times they have been taken out or have taken out any given player. The new version also includes a new Burnout Clips feature, which allows to save 30 second clips of any offline race played and can be shared them with other players over Xbox Live Xbox Live Xbox Live is an online multiplayer gaming and digital media delivery service created and operated by Microsoft Corporation. It is currently the only online gaming service that charges users a fee to play multiplayer gaming. It was first made available to the Xbox system in 2002... . Furthermore, the Xbox 360 version removes the launch meter from Crash Mode that was seen in the PS2/Xbox version. Bonus vehicles There are two extra vehicles that can be unlocked by the presence of a saved game from another title on the memory card or hard drive when you first create your profile. A Madden NFL \\'06 save will unlock the Madden Challenge Bus and a Burnout 3: Takedown Burnout 3: Takedown Burnout 3: Takedown is the third game in the Burnout series of video games. Released on September 7, 2004, developed by Criterion Games and published by Electronic Arts , the game drew critical acclaim and a large fanbase.A GameCube version was planned but was scrapped during development... save will unlock the Dominator Assassin . Both of these cars are available only for Crash events. They are also available for online use if you own an online adapter. Although it may not be hidden, after reaching the \"Elite\" rank, you unlock the Black Elite Racer, which has some references to the game, Black. Example, there are bullet holes all around the car, and the license plate on the back reads \"Kellar\", which is who you play as in Black. Downloadable content The Xbox 360 Xbox 360 The Xbox 360 is the second video game console produced by Microsoft, and the successor to the Xbox. The Xbox 360 competes with Sony\\'s PlayStation 3 and Nintendo\\'s Wii as part of the seventh generation of video game consoles.... &nbsp;version of Burnout Revenge was the first game to take advantage of kiosk downloads in North America, where players could take their Xbox 360 Memory Unit&nbsp;to participating stores such as GameStop GameStop GameStop Corporation is an American video game and entertainment software retailer. The company, whose headquarters are in Grapevine, Texas , United States, operates 6,200 retail stores throughout the United States, Canada, Australia, Ireland, Denmark, Finland, France, Germany, Italy, New Zealand,... , Circuit City Circuit City Circuit City Stores, Inc. was an American retailer in brand-name consumer electronics, personal computers, entertainment software, and large appliances. The company opened its first store in 1949 and liquidated its final American retail stores in 2009 following a bankruptcy filing and subsequent... , and Best Buy Best Buy Best Buy Co., Inc. is a specialty retailer of consumer electronics in the United States accounting for 19% of the market. It also operates in Canada, Mexico, and China. The company\\'s subsidiaries include Geek Squad, Magnolia Audio Video, Pacific Sales, and, in Canada operates under both the Best... , and download new content for the game onto it. The provided content varied between kiosks. Xbox Live Marketplace Xbox Live Marketplace The Xbox Live Marketplace is a virtual market designed for Microsoft\\'s Xbox 360 console that allows Xbox Live members to download purchased or promotional content... &nbsp;content is also available in the form of new cars, including: Alienware Alienware Alienware is an American computer hardware company and a wholly-owned subsidiary of Dell, Inc. It mainly assembles third party components into desktops with custom enclosures for high-performance gaming. These products also support graphically intense applications such as video editing, simulation,... &nbsp;Car Dolby&nbsp;Car Monster Monster A monster is any type of legendary creatures which usually appear in legend or horror fiction. The word monster derives from the latin word monstrum, meaning \"omen\", from the root of monere and also meaning \"prodigy\" or \"miracle\".... &nbsp;Car Plantronics Plantronics Plantronics is a hardware company based in Santa Cruz, California, that specializes in lightweight headsets.-History:In the early 1960s, airline headsets were so large and clunky that many pilots had switched back to the use of handheld microphones for communications... &nbsp;Car Spike TV Spike TV Spike , a division of MTV Networks, is an American cable channel designed for an audience described demographically as \"young adult males\". The channel began life as The Nashville Network , founded by WSM, Inc... &nbsp;Car Yellowcard Yellowcard Yellowcard is a band formed in Jacksonville, Florida in 1997, and based in Los Angeles, California since 2000. Their music features the use of a violin, unusual for the genre... &nbsp;Car Reception Burnout Revenge was named the game of the month in the Game Informer Game Informer Game Informer is an American-based monthly magazine featuring articles, news, strategy, and reviews of popular video games and associated consoles... &nbsp;October 2005 issue. It also scored 9.1 for PS2 and Xbox and 8.8 for Xbox 360 on Gamespot. Eurogamer Eurogamer Eurogamer is a Brighton-based website focused on video games news, reviews, previews and interviews. It is operated by Eurogamer Network Ltd., which was formed in 1999 by brothers Rupert and Nick Loman. Eurogamer has grown to become one of the most important European-based websites focused on... &nbsp;gave it a 8/10, while IGN IGN IGN is a multimedia news and reviews website that focuses heavily on video games... &nbsp;rated it a 8.9/10. Awards IGN IGN IGN is a multimedia news and reviews website that focuses heavily on video games... 2005 - Best Use of Sound - (Best of 2005 Awards) 2005 - Editors Choice - (ING.com Awards) 2006 - Xbox 360 Best Racing/Driving Game - (Best of 2006 Awards) 2006 - Overall Best Racing/Driving Game - (Best of 2006 Awards) Spike TV Spike TV Spike , a division of MTV Networks, is an American cable channel designed for an audience described demographically as \"young adult males\". The channel began life as The Nashville Network , founded by WSM, Inc... 2005 - Best Driving Game - (2005 Video Game Awards) 2006 - Best Driving Game - (2006 Video Game Awards) 2006 - Best Song (\" Lights and Sounds Lights and Sounds Lights and Sounds is the fifth studio album by American pop punk band Yellowcard, released on January 24, 2006 in the United States through Capitol Records. Lights and Sounds is Yellowcard\\'s first concept album, which was inspired to reflect what the band was feeling at the time of production and... \" by Yellowcard Yellowcard Yellowcard is a band formed in Jacksonville, Florida in 1997, and based in Los Angeles, California since 2000. Their music features the use of a violin, unusual for the genre... ) - (2006 Video Game Awards) Gamespot GameSpot GameSpot is a video gaming website that provides news, reviews, previews, downloads, and other information. The site was launched in May 1996 by Pete Deemer, Vince Broady and Jon Epstein. It was purchased by ZDNet, a brand which was later purchased by CNET Networks. CBS Interactive, which purchased... 2006 - Best Driving Game - (2006 Best & Worst Readers\\' Choice) GameTrailers GameTrailers GameTrailers is a media website that specializes in video game related content. It provides free access to original programming , game trailers and recorded game play. Many of the video clips are offered in high definition along with standard definition .Users can upload videos, create blogs and... 2006 - Best Racing Game - (Game of the Year Awards) GameDaily GameDaily is a video game journalism website based in the United States. Launched in 1995 with the name Gigex, the site was acquired by AOL on August 16, 2006. The site offers articles on different video game topics, with a lot of lists where games are ranked.... 2006 - Best Game to Burn Rubber with - (NOD Awards) Develop Industry Excellence Awards 2006 - Best Art & Sound - (joint award with Black Black Black is the color of objects that do not emit or reflect light in any part of the visible spectrum; they absorb all such frequencies of light... ) AIAS Interactive Achievement Awards 2007 - Racing Game of the Year Burnout Burnout (series) Burnout is a series of high-speed racing games for the PlayStation 2, PlayStation 3, PlayStation Portable, Xbox, Xbox 360, Nintendo DS, and Nintendo GameCube game consoles. Also, for the very first time, a PC version of the latest installment in the series, Burnout Paradise, has been released... 2005 - Best Game in Series Electronic Entertainment Expo 2005 - Best Driving Game - (\"Best of E3 Game Critics Awards) External links Official EA web site Official Criterion Games web site GameSpot Burnout Revenge Review ',\n",
              " \" Laptop emergency! Welcome to WebmasterWorld Guest from 84.77.3.46 register , login , search , glossary , subscribe , help , library , PubCon , announcements , recent posts , unanswered posts , Accredited PayPal World Seller Home / Forums Index / Local / Foo Forum Library : Charter : Moderators: lawman Foo &nbsp;&nbsp; &nbsp; Laptop emergency! Accidentally changed laptop combo... mcg321 #:3082243 &nbsp; 12:33 am on Sep 14, 2006 (utc 0) Alright, here's the story. I just got an MicroSaver Portable Notebook Combination Lock last week, and a few days ago I removed it from my laptop in order to take it somewhere. That went fine. However, when I was putting the lock back on, I was having some difficulties so I tried different things to put it back on, i.e. flip the switch on top, put it to my combo to get it on, etc. Whatever I did, I think I accidentally changed the combo because now the damn thing won't come off. This might be one of the stupidest things I've ever done and I'm pretty embarassed to admit it, but I don't know what to do. Anyone experience this before? (I sure hope not, heh...) Any ideas? Thanks a ton. BillyS #:3082322 &nbsp; 2:15 am on Sep 14, 2006 (utc 0) How do I Personalize/Change the Combination on my Notebook ComboSaver�? To Personalize or Change your Notebook ComboSaver� combination: 1. Rotate the combination wheels to the current code. The pre-set factory code is 000. 2. Press the reset button at the end of the lock body -- just look for the Kensington logo (a small picture of a padlock with a K inside it.) 3. While pressing the reset button, set your combination to a number of your choice aligned with the black line. In setting the combination, choose something that is easy to remember. IMPORTANT: Do not let go of the reset button while setting the combination. If the button is released while you are setting the combination, the ComboSaver will set to a combination that you may not have specified. 4. Release the reset button. Your new combination is now set. My lock will not open with the combination I set it to, what do I do? To maintain the highest levels of security for your belongings, there is no �master-combination� to bypass the locking mechanism. If, for any reason, the correct combination will not open the lock, please go to [ support.kensington.com ...] and select the �email Technical Support� link. &nbsp; Home / Forums Index / Local / Foo All trademarks and copyrights held by respective owners. Member comments are owned by the poster. Terms of Service &brvbar; Privacy Policy &brvbar; Report Problem &brvbar; About WebmasterWorld &reg; and PubCon &reg; are a Registered Trademarks of WebmasterWorld Inc. &copy; WebmasterWorld Inc. 1996-2010 all rights reserved \",\n",
              " ' Spike TV Awards: Brad Pitt, Mel Gibson And A Halle Berry Butt Grab (PHOTOS) - Brad Pitt Gossip Login &nbsp;|&nbsp; Join home celebrities Barack Obama Twitter Twilight NBC American Idol Robert Pattinson Tiger Woods Lady GaGa hot topics Fashion Deaths Hospital Crime Academy Awards Weddings Earthquakes Internet photos Most Recent Most Popular videos Most Recent Most Popular twitter Tweets Twitter Pics Twitter Rankings Featured Stories Cynthia Nixon honored by GLAAD Read the story&gt;&gt; Renee Zellweger is walking on sunshine Read the story&gt;&gt; Picture Of The Day: Gerard Butler Read the story&gt;&gt; George Clooney Sure Has Some Funny Faces Read the story&gt;&gt; Zachary Levi Talks About Being Recognized & Chuck Read the story&gt;&gt; Breaking News Spike TV Awards: Brad Pitt, Mel Gibson And A Halle Berry Butt Grab (PHOTOS) The Huffington Post - 31st May 2009 9 votes The Spike TV Guy&#39;s Choice Awards took place in Los Angeles on Saturday night. Stars turned out to collect Awards like &quot;funnest mother fucker&quot; and &quot;hot n&#39; fresh&quot; and &quot;brass balls&quot; from the guy-oriented cable network. Comment on this story &nbsp; Read full story at The Huffington Post In This Story Brad Pitt Halle Berry Mel Gibson People\\'s Choice Awards More Coverage Brad Pitt - Pitt Picks Up Guys Choice Honour Pokes Fun At Gibson Brad Pitt poked fun at fellow movie star Mel Gibson at the Spike TV Guys Choice Awards in Los Angeles on Saturday Pitt Picks Up Guys Choice Honour, Pokes Fun At Gibson Brad Pitt poked fun at fellow movie star Mel Gibson at the Spike TV Guys Choice Awards in Los Angeles on Saturday Brad Pitt Teases Mel Gibson About His \\'Sugar Tits\\' At Spike TV\\'s Guys Choice Awards yesterday in Los Angeles, Brad Pitt showed off his more playful side when he went on stage to accept an award (along with Edward Norton ) for Fight Club . Share This Related Content Brad Pitt - Pitt Picks Up Guys Choice Honour Pokes Fun At Gibson Brad Pitt poked fun at fellow movie star Mel Gibson at the Spike TV Guys Choice Awards in Los Angeles on Saturday night (30May09) - by referencing the BRAVEHEART star\\'s 2006 drink driving arrest during his Hall of Fame induction speech.Gibson opened the show at Sony Studios by riding onstage on horseback, wearing a Viking helmet, to present Pitt, Edward Norton and director David Fincher with the Discretionary Guy Movie Hall of Fame Award for their work on cult film Fight Club. But Pitt,... Pitt Picks Up Guys Choice Honour, Pokes Fun At Gibson Brad Pitt poked fun at fellow movie star Mel Gibson at the Spike TV Guys Choice Awards in Los Angeles on Saturday night (30May09) - by referencing the Braveheart star\\'s 2006 drink driving arrest during his Hall of Fame induction speech.Gibson opened the show at Sony Studios by riding onstage on horseback, wearing a Viking helmet, to present Pitt, Edward Norton and director David Fincher with the Discretionary Guy Movie Hall of Fame Award for their work on cult film Fight Club.But Pitt,... Brad Pitt Teases Mel Gibson About His \\'Sugar Tits\\' At Spike TV\\'s Guys Choice Awards yesterday in Los Angeles, Brad Pitt showed off his more playful side when he went on stage to accept an award (along with Edward Norton ) for Fight Club .The film was inducted into the Guy Hall of Fame--a prize announced by Mel Gibson --and upon accepting the honor, Pitt told Mel , &quot;Thanks, sugar tits!&quot; Aww, that makes me nostalgic .After that, Pitt took the opportunity to plug his new film Inglourious Basterds and informed the audience,... Halle Berry & Jamie Foxx Spike TV KISSING! (VIDEO,PHOTOS) Halle Berry was the recipient of the Decades of Hotness award last night at Spike TV 2009 Guys Choice Awards. Halle Berry & Jamie Foxx MAKE-OUT PHOTOS, VIDEO Halle Berry Stunning & Makeout Session With Jamie Foxx At Spike Awards Actress Halle Berry looked absolutely stunning in her sexy black dress at the Spike TV\\'s \\'Guys Choice Awards\\' held at ... Halle Berry @ 2009 Spike TV\\'s Guys Choice Awards So in addition to the photos of Halle Berry on the red carpet, there are photos of Halle making out with Jamie Foxx on stage. Sorry but I just couldn\\'t stand to post those. No idea what the deal is between the two but yeah, what a lucky bastard (he grabbed a handful of ass)! Halle Berry Gives Jamie Foxx a Hand Job On TV!!! Jamie Foxx and Halle Berry were at the Spike TV&#8217;s 2009 &#8220;Guys Choice Awards&#8221; last night. Halle decided to give Jamie something he&#8217;s probably been dreaming about since he got into the Hollywierd game. Crazy, pop the top and see the sequence Jamie Foxx and Halle Berry: Make Out Alert! At the network\\'s Guys Choice Awards, Halle Berry picked up the Decade of Hotness honor. And she celebrated by making men everywhere despise Jamie Foxx.The gorgeous 42-year-old got to first base - and a bit more! - with the Oscar-winning actor. Just look at the location of his hand... and hers! Click on the pics above to get a closer look at Jamie Foxx and Halle Berry locking lips. Brad Pitt Teases Actor Mel Gibson About DUI Arrest Brad Pitt Teases Actor Mel Gibson About DUI Arrest. He calls the actor \\'sugar t\\' at an awards show Brad Pitt & Halle Berry Fire Up the Spike TV Awards A-list celebs locked lips, rode in on horseback and played with fire at the unconventional Spike TV 2009 Guys Choice Awards at Sony Studios! ET has the pics! Spike TV Announces 2009 \\'Guys Choice\\' Winners THIRD ANNUAL SHOW PAYS HOMAGE TO THE LORDS OF THE KINGDOM OF TESTOSTERONE PREMIERES ON SPIKE TV SUNDAY, JUNE 21 AT 10:00 PM, ET/PT Brad Pitt, Edward Norton And David Fincher Electrify Audience As \"Fight Club\" Is Inducted Into \"Guy Movie Hall Of Fame,\" Receiving the Award From Mel Gibson Clint Eastwood Receives \"Brass Balls Award\"; Mickey Rourke Named \"Guy Of The Year\" Show Features Performances And Appearances By Halle Berry, Jamie Foxx,... New Photos of Angie On Salt Set, and Halle Berry Clinging to Brad! See? A little bump doesn&#8217;t hurt our Angelina Jolie! New photos of Angie surfaced this evening working hard on the Salt set - from what I&#8217;m hearing this is her last week filming (wow, that went fast didn&#8217;t it?!) so it makes sense that she&#8217;s trying to get it all done. Brad Pitt Calls Mel Gibson \"Sugar Tits\"--Hilarity Ensues Brad, Mel, David Fincher and Edward Norton Halle Berry gets steamy with Jamie Foxx on stage London, June 1 (ANI): Hollywood actress Halle Berry got a little overfriendly with actor Jamie Foxx as he presented her with a &#8216;Decade of Hotness&#8217; gong in Los Angeles. Halle Berry circling \\'Surrogate\\' Halle Berry is in talks to star in thriller \"The Surrogate\" for 20th Century Fox.Helmer Paul Verhoeven is onboard to develop the project, which revolves around a couple who hire a surrogate to carry their child and find out mid-term that the surrogate is insane.Project would mark Berry\\'s return to the bigscreen after having a baby last year. She hasn\\'t starred in a film since 2007\\'s \"Perfect Stranger\" opposite Bruce Willis.\"The Surrogate,\" which had been in development at the now-shuttered... Halle Berry in talks for \"Surrogate\" Halle Berry in talks for Surrogate. Halle Berry is in talks to star in the thriller \\'The Surrogate,\\' which Paul Verhoeven recently agreed to develop and direct. Halle Berry Accepts Decade of Hotness Award Halle Berry is honored with the Decade of Hotness award at Spike TV&#8217;s 2009 &#8220;Guys Choice&#8221; Awards held at the Sony Studios on Saturday (May 30) in Los Angeles.The 42-year-old actress had a very special moment with Jamie Foxx , who was on hand to present the award to Halle . Jamie thanked Halle by kissing her on the lips and giving her a nice squeeze on her tush. Looks like they both really enjoyed it!35+ pictures inside Decade of Hotness winner Halle Berry... Halle Berry Wins Hotness Award Halle Berry in the Market for a Surrogate Halle Berry is in the market for a surrogate. But only if she&#8217;s one crazy biatch. Luckily for her, THR reports that she&#8217;s currently in negotiations to star as the non-crazy biatch in the thriller &#8220;The Surrogate&#8221;. If she signs on the dotted line, Berry would play the female half of a married couple desperate to have a child, only to discover that the surrogate they&#8217;ve chosen to carry their child is, well, out of her flippin&#8217; mind. Halle Berry in talks for \\'Surrogate\\' The move follows Paul Verhoeven\\'s boarding to develop and direct the thriller , which Ralph Winter is producing along with Deborah Giarratana, Robin Guthrie and Susana Zepeda. Based on the 2004 book by Kathryn Mackel, the story centers on a couple desperate to have a child who find themselves in an unbearable position when they find out the surrogate they hired to carry their baby is insane.Berry is interested in the part and Fox is keen to have her do it, though official dealmaking has yet... SPIKE TV GUYS CHOICE AWARDS Spike TV, the network for all things guys seem to dig, hosted their \"Guys Choice Awards\" in Los Angeles tonight and Lars and Robert were there to collect the \"Ballsiest Band\" Award . . . there\\'s a first! Thornton\\'s Daughter Charged in Death of 1-Year-Old Jamie Foxx and Halle Berry create Sparks at Spike TV\\'s 2009 \\'Guys Choice Awards\\', Sacha Baron Cohen as Bruno hangs out with Hollywood\\'s big hitters, Jordin Sparks serenades and much more! See Pics You Missed >>> Halle\\'s hottest decade Any doubts Halle Berry had about returning to work after the birth of her daughter were blown away last night when she was given the \\'Decade of Hotness\\' award at the Spike TV Guys Choice Awards. Halle smoulderedin a black halterneck frock and her reaction to nabbing the award wasto plant a kiss on a momentarily surprised presenter Jamie Foxx. But Jamie was only taken aback for a second before he seized theopportunity to congratulate Halle. ... Halle steals victory kiss Any doubts Halle Berry had about returning to work after the birth of her daughter were blown away last night when she was given the \\'Decade of Hotness\\' award at the Spike TV Guys Choice Awards. Halle smouldered in a black halterneck frock and her reaction to nabbing the award was to plant a kiss on a momentarily surprised presenter Jamie Foxx. But Jamie was only taken aback for a second before he seized the opportunity to... Get Ready for the MTV Movie Awards Jamie Foxx and Halle Berry create Sparks at Spike TV\\'s 2009 \\'Guys Choice Awards\\', Sacha Baron Cohen as Bruno hangs out with Hollywood\\'s big hitters, Jordin Sparks serenades and much more! See Pics You Missed >>> Leave a Comment Name Email Your Comment Email me when comments are added If you are commenting as a guest, enter your personal information in the form provided. Don\\'t worry, your privacy is safe. You can also login to your account or use one of the following methods: Hot Today Barack Obama Hospital Corey Haim SXSW Deaths Health Care Twilight Twitter Elections Kristen Stewart Internet Eclipse NBC Joe Jonas Senate Jennifer Love .. Demi Lovato New Moon The Runaways Robert Pattinson Republicans Jamie Kennedy Crime Fashion Weddings Prison Prescription D.. Military Manny Pacquiao Suicide Get More Celebrifi Follow Celebrifi on Twitter Send a tip Bookmark us Login using Facebook Login using Twitter RSS feed Get email alerts The Celebrifi Network Celebrity Twitter Twilight Whisper Harry Pottering American Idolizing The TV Realist Britney Spears Watcher Filmifi Peepbuzz About Us Who are we? How does it work? Privacy Policy Terms of Service Contact Us Newsroom &copy; Copyright Celebrifi 2010 ']"
            ]
          },
          "metadata": {
            "tags": []
          },
          "execution_count": 3
        }
      ]
    },
    {
      "cell_type": "markdown",
      "metadata": {
        "id": "joM6k195XwBS",
        "colab_type": "text"
      },
      "source": [
        "**Inicializamos CountVectorizer y tokenizamos el corpus**"
      ]
    },
    {
      "cell_type": "code",
      "metadata": {
        "id": "WO78k2i9QqcL",
        "colab_type": "code",
        "colab": {}
      },
      "source": [
        "from sklearn.feature_extraction.text import CountVectorizer\n",
        "vectorizer = CountVectorizer()\n",
        "#tokenizamos\n",
        "matriz_tf = vectorizer.fit_transform(corpus)\n",
        "vectorizer.get_feature_names()"
      ],
      "execution_count": 0,
      "outputs": []
    },
    {
      "cell_type": "code",
      "metadata": {
        "id": "ActsorUKQ9Ew",
        "colab_type": "code",
        "outputId": "60555f79-f557-4c1d-906d-0af0016555ed",
        "colab": {
          "base_uri": "https://localhost:8080/",
          "height": 101
        }
      },
      "source": [
        "#Matriz con las ocurrencias de los tokens\n",
        "matriz_tf.toarray()"
      ],
      "execution_count": 5,
      "outputs": [
        {
          "output_type": "execute_result",
          "data": {
            "text/plain": [
              "array([[0, 4, 0, ..., 0, 0, 0],\n",
              "       [0, 0, 0, ..., 0, 1, 2],\n",
              "       [0, 0, 1, ..., 0, 0, 0],\n",
              "       [0, 1, 0, ..., 0, 0, 0],\n",
              "       [1, 0, 0, ..., 1, 0, 0]])"
            ]
          },
          "metadata": {
            "tags": []
          },
          "execution_count": 5
        }
      ]
    },
    {
      "cell_type": "code",
      "metadata": {
        "id": "FwNb8041RqmQ",
        "colab_type": "code",
        "outputId": "874e1cc5-127a-4c4a-b1fd-ffd88bb3139d",
        "colab": {
          "base_uri": "https://localhost:8080/",
          "height": 121
        }
      },
      "source": [
        "#Ejemplo de como analiza cada documento del corpus\n",
        "analyze = vectorizer.build_analyzer()\n",
        "for documento in corpus: print(analyze(documento))"
      ],
      "execution_count": 6,
      "outputs": [
        {
          "output_type": "stream",
          "text": [
            "['gerard', 'salton', 'facts', 'discussion', 'forum', 'and', 'encyclopedia', 'article', 'home', 'nbsp', 'nbsp', 'nbsp', 'nbsp', 'nbsp', 'discussion', 'nbsp', 'nbsp', 'nbsp', 'nbsp', 'nbsp', 'topics', 'nbsp', 'nbsp', 'nbsp', 'nbsp', 'nbsp', 'dictionary', 'nbsp', 'nbsp', 'nbsp', 'nbsp', 'nbsp', 'almanac', 'signup', 'nbsp', 'nbsp', 'nbsp', 'nbsp', 'nbsp', 'nbsp', 'login', 'gerard', 'salton', 'gerard', 'salton', 'topic', 'home', 'discussion', 'discussion', 'ask', 'question', 'about', 'gerard', 'salton', 'start', 'new', 'discussion', 'about', 'gerard', 'salton', 'answer', 'questions', 'from', 'other', 'users', 'full', 'discussion', 'forum', 'nbsp', 'encyclopedia', 'gerard', 'salton', 'march', '1927', 'nbsp', 'in', 'nuremberg', 'nuremberg', 'nuremberg', 'is', 'city', 'in', 'the', 'german', 'state', 'of', 'bavaria', 'in', 'the', 'administrative', 'region', 'of', 'middle', 'franconia', 'it', 'is', 'situated', 'on', 'the', 'pegnitz', 'river', 'and', 'the', 'rhine', 'main', 'danube', 'canal', 'and', 'is', 'franconia', 'largest', 'city', 'it', 'is', 'located', 'about', '170', 'kilometres', 'north', 'of', 'munich', 'at', '49', '27', '11', 'the', 'population', 'is', 'nbsp', '28', 'august', '1995', 'was', 'professor', 'of', 'computer', 'science', 'computer', 'science', 'computer', 'science', 'is', 'the', 'study', 'of', 'the', 'theoretical', 'foundations', 'of', 'information', 'and', 'computation', 'and', 'of', 'practical', 'techniques', 'for', 'their', 'implementation', 'and', 'application', 'in', 'computer', 'systems', 'it', 'is', 'frequently', 'described', 'as', 'the', 'systematic', 'study', 'of', 'algorithmic', 'processes', 'that', 'create', 'describe', 'and', 'transform', 'nbsp', 'at', 'cornell', 'university', 'cornell', 'university', 'cornell', 'university', 'is', 'private', 'university', 'located', 'in', 'ithaca', 'new', 'york', 'usa', 'that', 'is', 'member', 'of', 'the', 'ivy', 'league', 'cornell', 'counts', 'more', 'than', '255', '000', 'living', 'alumni', '28', 'rhodes', 'scholars', 'and', '41', 'nobel', 'laureates', 'affiliated', 'with', 'the', 'university', 'as', 'faculty', 'or', 'students', 'salton', 'was', 'perhaps', 'the', 'leading', 'computer', 'scientist', 'working', 'in', 'the', 'field', 'of', 'information', 'retrieval', 'information', 'retrieval', 'information', 'retrieval', 'is', 'the', 'science', 'of', 'searching', 'for', 'documents', 'for', 'information', 'within', 'documents', 'and', 'for', 'metadata', 'about', 'documents', 'as', 'well', 'as', 'that', 'of', 'searching', 'relational', 'databases', 'and', 'the', 'world', 'wide', 'web', 'nbsp', 'during', 'his', 'time', 'his', 'group', 'at', 'cornell', 'developed', 'the', 'smart', 'information', 'retrieval', 'system', 'smart', 'information', 'retrieval', 'system', 'the', 'smart', 'information', 'retrieval', 'system', 'is', 'an', 'information', 'retrieval', 'system', 'developed', 'at', 'cornell', 'university', 'in', 'the', '1960s', 'salton', 'was', 'born', 'gerhard', 'anton', 'sahlmann', 'on', 'march', '1927', 'in', 'nuremberg', 'germany', 'he', 'received', 'bachelor', '1950', 'and', 'master', '1952', 'degree', 'in', 'mathematics', 'from', 'brooklyn', 'college', 'brooklyn', 'college', 'brooklyn', 'college', 'is', 'senior', 'college', 'of', 'the', 'city', 'university', 'of', 'new', 'york', 'located', 'in', 'brooklyn', 'new', 'york', 'established', 'in', '1930', 'by', 'the', 'new', 'york', 'city', 'board', 'of', 'higher', 'education', 'the', 'college', 'had', 'its', 'beginnings', 'as', 'the', 'downtown', 'brooklyn', 'branches', 'of', 'hunter', 'college', 'and', 'the', 'city', 'college', 'of', 'new', 'york', 'and', 'ph', 'from', 'harvard', 'harvard', 'university', 'harvard', 'university', 'is', 'private', 'university', 'located', 'in', 'cambridge', 'massachusetts', 'and', 'member', 'of', 'the', 'ivy', 'league', 'founded', 'in', '1636', 'by', 'the', 'colonial', 'massachusetts', 'legislature', 'harvard', 'is', 'the', 'oldest', 'institution', 'of', 'higher', 'learning', 'in', 'the', 'united', 'states', 'and', 'currently', 'comprises', 'ten', 'separate', 'academic', 'units', 'nbsp', 'in', '1958', 'the', 'last', 'of', 'howard', 'aiken', 'howard', 'aiken', 'howard', 'hathaway', 'aiken', 'was', 'pioneer', 'in', 'computing', 'being', 'the', 'primary', 'engineer', 'behind', 'ibm', 'harvard', 'mark', 'computer', 'doctoral', 'students', 'and', 'taught', 'there', 'until', '1965', 'when', 'he', 'joined', 'cornell', 'university', 'cornell', 'university', 'cornell', 'university', 'is', 'private', 'university', 'located', 'in', 'ithaca', 'new', 'york', 'usa', 'that', 'is', 'member', 'of', 'the', 'ivy', 'league', 'cornell', 'counts', 'more', 'than', '255', '000', 'living', 'alumni', '28', 'rhodes', 'scholars', 'and', '41', 'nobel', 'laureates', 'affiliated', 'with', 'the', 'university', 'as', 'faculty', 'or', 'students', 'nbsp', 'and', 'co', 'founded', 'its', 'department', 'of', 'computer', 'science', 'he', 'was', 'editor', 'in', 'chief', 'of', 'the', 'communications', 'of', 'the', 'acm', 'communications', 'of', 'the', 'acm', 'communications', 'of', 'the', 'acm', 'is', 'the', 'flagship', 'monthly', 'journal', 'of', 'the', 'association', 'for', 'computing', 'machinery', 'first', 'published', 'in', '1957', 'cacm', 'is', 'sent', 'to', 'all', 'acm', 'members', 'currently', 'numbering', 'about', '80', '000', 'the', 'articles', 'are', 'intended', 'for', 'readers', 'with', 'backgrounds', 'in', 'all', 'areas', 'of', 'computer', 'science', 'and', 'information', 'nbsp', 'and', 'the', 'journal', 'of', 'the', 'acm', 'journal', 'of', 'the', 'acm', 'the', 'journal', 'of', 'the', 'acm', 'is', 'the', 'flagship', 'scientific', 'journal', 'of', 'the', 'association', 'for', 'computing', 'machinery', 'it', 'covers', 'computer', 'science', 'in', 'general', 'especially', 'theoretical', 'aspects', 'the', 'journal', 'has', 'been', 'published', 'since', '1954', 'and', 'chaired', 'sigir', 'sigir', 'sigir', 'may', 'refer', 'to', 'special', 'inspector', 'general', 'for', 'iraq', 'reconstruction', 'special', 'interest', 'group', 'on', 'information', 'retrieval', 'special', 'interest', 'group', 'of', 'the', 'association', 'for', 'computing', 'machinery', 'concerned', 'about', 'information', 'retrieval', 'salton', 'was', 'an', 'acm', 'association', 'for', 'computing', 'machinery', 'the', 'association', 'for', 'computing', 'machinery', 'or', 'acm', 'is', 'learned', 'society', 'for', 'computing', 'it', 'was', 'founded', 'in', '1947', 'as', 'the', 'world', 'first', 'scientific', 'and', 'educational', 'computing', 'society', 'its', 'membership', 'is', 'more', 'than', '92', '000', 'as', 'of', '2009', 'nbsp', 'fellow', 'elected', '1995', 'received', 'an', 'award', 'of', 'merit', 'from', 'the', 'american', 'society', 'for', 'information', 'science', 'nbsp', '1989', 'and', 'was', 'the', 'first', 'recipient', 'of', 'the', 'sigir', 'sigir', 'sigir', 'may', 'refer', 'to', 'special', 'inspector', 'general', 'for', 'iraq', 'reconstruction', 'special', 'interest', 'group', 'on', 'information', 'retrieval', 'special', 'interest', 'group', 'of', 'the', 'association', 'for', 'computing', 'machinery', 'concerned', 'about', 'information', 'retrieval', 'nbsp', 'award', 'for', 'outstanding', 'contributions', 'to', 'study', 'of', 'information', 'retrieval', '1983', 'now', 'called', 'the', 'gerard', 'salton', 'award', 'gerard', 'salton', 'award', 'the', 'gerard', 'salton', 'award', 'is', 'presented', 'by', 'the', 'association', 'for', 'computing', 'machinery', 'sigir', 'every', 'three', 'years', 'to', 'an', 'individual', 'who', 'has', 'made', 'significant', 'sustained', 'and', 'continuing', 'contributions', 'to', 'research', 'in', 'information', 'retrieval', 'external', 'links', 'in', 'memoriam', 'the', 'most', 'influential', 'paper', 'gerard', 'salton', 'never', 'wrote', 'this', '2004', 'library', 'trends', 'paper', 'by', 'david', 'dubin', 'serves', 'as', 'historical', 'review', 'of', 'the', 'metamorphasis', 'of', 'the', 'term', 'discrimination', 'value', 'model', 'tdv', 'into', 'the', 'vector', 'space', 'model', 'as', 'an', 'information', 'retrieval', 'model', 'vsm', 'as', 'an', 'ir', 'model', 'this', 'paper', 'calls', 'into', 'question', 'what', 'the', 'information', 'retrieval', 'research', 'community', 'believed', 'salton', 'vector', 'space', 'model', 'was', 'originally', 'intended', 'to', 'model', 'what', 'much', 'later', 'became', 'an', 'information', 'retrieval', 'model', 'was', 'originally', 'data', 'centric', 'mathematical', 'computational', 'model', 'used', 'as', 'an', 'explanatory', 'device', 'in', 'addition', 'dubin', 'paper', 'points', 'out', 'that', '1975', 'salton', 'paper', 'oft', 'cited', 'does', 'not', 'exist', 'but', 'is', 'probably', 'combination', 'of', 'two', 'other', 'papers', 'neither', 'of', 'which', 'actually', 'refer', 'to', 'the', 'vsm', 'as', 'an', 'ir', 'model']\n",
            "['sewer', 'global', 'buyers', 'importers', 'wholesalers', 'and', 'distributors', 'import', 'url', 'http', 'image', 'ec21', 'com', 'inc', 'css', 'style', 'css', 'sign', 'in', 'join', 'free', 'community', 'mail', 'inquiry', 'basket', 'help', 'buy', 'now', 'sell', 'now', 'services', 'my', 'ec21', 'home', 'gt', 'sell', 'now', 'gt', 'global', 'buyers', 'gt', 'environment', 'gt', 'sewer', 'global', 'buyers', 'sewer', 'environment', 'all', 'categories', 'agriculture', 'apparel', 'automobiles', 'motorcycles', 'business', 'services', 'chemicals', 'computer', 'hardware', 'software', 'construction', 'real', 'estate', 'consumer', 'electronics', 'electrical', 'equipment', 'supplies', 'electronic', 'components', 'supplies', 'energy', 'environment', 'excess', 'inventory', 'fashion', 'accessories', 'food', 'beverage', 'furniture', 'furnishings', 'general', 'industrial', 'equipment', 'general', 'mechanical', 'components', 'gifts', 'crafts', 'hardware', 'health', 'medical', 'home', 'garden', 'home', 'appliances', 'lights', 'lighting', 'luggage', 'bags', 'cases', 'manufacturing', 'processing', 'machinery', 'measurement', 'analysis', 'instruments', 'minerals', 'metallurgy', 'office', 'school', 'supplies', 'packaging', 'paper', 'personal', 'care', 'printing', 'publishing', 'rubber', 'plastics', 'security', 'protection', 'service', 'equipment', 'shoes', 'accessories', 'sports', 'entertainment', 'telecommunications', 'textiles', 'leather', 'products', 'timepieces', 'jewelry', 'eyewear', 'tools', 'toys', 'transportation', 'all', 'countries', 'samoa', 'afghanistan', 'albania', 'algeria', 'andorra', 'angola', 'anguilla', 'antarctica', 'antigua', 'barbuda', 'argentina', 'armenia', 'aruba', 'australia', 'austria', 'azerbaijan', 'br', 'antarc', 'br', 'virgin', 'is', 'bahamas', 'bahrain', 'bangladesh', 'barbados', 'belarus', 'belgium', 'belize', 'benin', 'bermuda', 'bhutan', 'bolivia', 'bosnia', 'herzegowina', 'botswana', 'bouvet', 'island', 'brazil', 'brunei', 'bulgaria', 'burkina', 'faso', 'burundi', 'dominica', 'canton', 'is', 'cambodia', 'cameroon', 'canada', 'canal', 'zone', 'cape', 'verde', 'cayman', 'central', 'african', 'republic', 'chad', 'chile', 'china', 'christmas', 'island', 'cocos', 'islands', 'colombia', 'comoros', 'congo', 'cook', 'islands', 'costa', 'rica', 'cote', 'ivoire', 'croatia', 'cuba', 'cyprus', 'czech', 'republic', 'dro', 'denmark', 'djibouti', 'dominican', 'rep', 'guinea', 'east', 'timor', 'ecuador', 'egypt', 'el', 'salvador', 'eritrea', 'estonia', 'ethiopia', 'guiana', 'polynesia', 'falkland', 'faroe', 'island', 'fiji', 'finland', 'france', 'gabon', 'gambia', 'georgia', 'germany', 'ghana', 'gibraltar', 'greece', 'greenland', 'grenada', 'guadeloupe', 'guam', 'guatemala', 'guinea', 'guinea', 'bissau', 'guyana', 'isl', 'haiti', 'honduras', 'hong', 'kong', 'hungary', 'iceland', 'india', 'indonesia', 'iran', 'iraq', 'ireland', 'israel', 'italy', 'jamaica', 'japan', 'johnston', 'island', 'jordan', 'kazakhstan', 'kenya', 'kiribati', 'korea', 'korea', 'dpr', 'kuwait', 'kyrgyzstan', 'latvia', 'lebanon', 'lesotho', 'liberia', 'libya', 'liechtenstein', 'lithuania', 'luxembourg', 'midway', 'is', 'us', 'macao', 'macedonia', 'madagascar', 'malawi', 'malaysia', 'maldives', 'mali', 'malta', 'marshall', 'islands', 'martinique', 'mauritania', 'mauritius', 'mayotte', 'mexico', 'micronesia', 'moldova', 'monaco', 'mongolia', 'montserrat', 'morocco', 'mozambique', 'myanmar', 'marianas', 'namibia', 'nauru', 'nepal', 'netherlands', 'netherlands', 'antilles', 'neutral', 'zone', 'new', 'caledonia', 'new', 'hebrides', 'new', 'zealand', 'nicaragua', 'niger', 'nigeria', 'niue', 'norfolk', 'island', 'norway', 'oman', 'pakistan', 'palau', 'palestine', 'panama', 'papua', 'new', 'guinea', 'paraguay', 'peru', 'phillippines', 'pitcairn', 'poland', 'polisario', 'portugal', 'puerto', 'rico', 'qatar', 'reunion', 'romania', 'russia', 'rwanda', 'yemen', 'is', 'south', 'georgia', 'st', 'kitts', 'nevis', 'st', 'lucia', 'st', 'st', 'vincent', 'samoa', 'san', 'marino', 'saudi', 'arabia', 'senegal', 'seychelles', 'sierra', 'leone', 'singapore', 'slovakia', 'slovenia', 'solomon', 'islands', 'somalia', 'south', 'africa', 'spain', 'sri', 'lanka', 'st', 'helena', 'sudan', 'suriname', 'swaziland', 'sweden', 'switzerland', 'syria', 'tobago', 'taiwan', 'tajikistan', 'tanzania', 'thailand', 'togo', 'tokelau', 'tonga', 'tunisia', 'turkey', 'turkmenistan', 'turks', 'caicos', 'islands', 'tuvalu', 'uae', 'usa', 'uganda', 'ukraine', 'united', 'kingdom', 'uruguay', 'uzbekistan', 'virgin', 'is', 'us', 'vanuatu', 'vatican', 'city', 'venezuela', 'viet', 'nam', 'wake', 'island', 'western', 'sahara', 'yemen', 'yugoslavia', 'zaire', 'zambia', 'zimbabwe', 'exclude', 'selected', 'country', 'nbsp', 'nbsp', 'nbsp', 'nbsp', 'over', 'million', 'global', 'buyers', 'directory', 'find', 'your', 'buyers', 'here', 'search', 'by', 'keywords', 'or', 'categories', 'then', 'send', 'your', 'inquiries', 'by', 'clicking', 'on', 'inquire', 'now', 'button', 'group', 'your', 'interested', 'buyers', 'by', 'clicking', 'on', 'add', 'to', 'basket', 'button', 'if', 'you', 'wish', 'to', 'make', 'and', 'customize', 'your', 'own', 'buyer', 'list', 'to', 'send', 'your', 'group', 'inquiries', 'go', 'to', 'myec21', 'gt', 'premium', 'services', 'gt', 'manage', 'my', 'buyers', 'your', 'previous', 'inquiry', 'sending', 'activities', 'will', 'be', 'marked', 'as', 'red', 'text', 'for', 'month', 'to', 'see', 'the', 'full', 'activity', 'go', 'to', 'buyer', 'contact', 'list', 'how', 'many', 'inquiries', 'can', 'send', 'to', 'buyers', 'in', 'this', 'directory', 'please', 'see', 'our', 'inquiry', 'sending', 'limit', 'buyers', 'found', 'in', 'environment', 'gt', 'sewer', 'nbsp', 'nbsp', 'sorry', 'there', 'were', 'no', 'matching', 'results', 'premium', 'seller', 'tools', 'trade', 'pro', 'trade', 'ok', 'advertising', 'on', 'ec21', 'order', 'credit', 'reports', 'order', 'tradeverify', 'basic', 'tool', 'how', 'to', 'sell', 'post', 'new', 'products', 'post', 'selling', 'leads', 'post', 'company', 'profile', 'trade', 'alert', 'get', 'listed', 'ec21', 'is', 'the', 'largest', 'global', 'b2b', 'marketplace', 'global', 'buyers', 'find', 'suppliers', 'here', 'every', 'day', 'if', 'you', 'are', 'manufacturer', 'or', 'supplier', 'who', 'want', 'more', 'international', 'buyers', 'join', 'ec21', 'for', 'free', 'now', 'and', 'get', 'your', 'products', 'listed', 'here', 'email', 'this', 'page', 'nbsp', 'nbsp', 'nbsp', 'nbsp', 'nbsp', 'nbsp', 'nbsp', 'nbsp', 'nbsp', 'nbsp', 'nbsp', 'bookmark', 'share', 'this', 'page', 'home', 'nbsp', 'nbsp', 'buy', 'now', 'nbsp', 'nbsp', 'sell', 'now', 'nbsp', 'nbsp', 'services', 'nbsp', 'nbsp', 'my', 'ec21', 'nbsp', 'nbsp', 'help', 'nbsp', 'nbsp', 'community', 'about', 'us', 'nbsp', 'nbsp', 'advertise', 'with', 'us', 'nbsp', 'nbsp', 'agent', 'program', 'nbsp', 'nbsp', 'site', 'map', 'nbsp', 'nbsp', 'contact', 'us', 'nbsp', 'nbsp', 'hot', 'products', 'nbsp', 'nbsp', 'country', 'search', 'nbsp', 'nbsp', 'premium', 'suppliers', 'terms', 'amp', 'conditions', 'nbsp', 'nbsp', 'privacy', 'policy', 'nbsp', 'nbsp', 'online', 'trading', 'risks', 'copyright', '1997', '2010', 'ec21', 'inc', 'all', 'rights', 'reserved', 'nbsp', 'ec21', 'in', 'korean', 'nbsp', 'nbsp', 'chinese']\n",
            "['burnout', 'revenge', 'facts', 'discussion', 'forum', 'and', 'encyclopedia', 'article', 'home', 'nbsp', 'nbsp', 'nbsp', 'nbsp', 'nbsp', 'discussion', 'nbsp', 'nbsp', 'nbsp', 'nbsp', 'nbsp', 'topics', 'nbsp', 'nbsp', 'nbsp', 'nbsp', 'nbsp', 'dictionary', 'nbsp', 'nbsp', 'nbsp', 'nbsp', 'nbsp', 'almanac', 'signup', 'nbsp', 'nbsp', 'nbsp', 'nbsp', 'nbsp', 'nbsp', 'login', 'burnout', 'revenge', 'burnout', 'revenge', 'topic', 'home', 'discussion', 'discussion', 'ask', 'question', 'about', 'burnout', 'revenge', 'start', 'new', 'discussion', 'about', 'burnout', 'revenge', 'answer', 'questions', 'from', 'other', 'users', 'full', 'discussion', 'forum', 'nbsp', 'encyclopedia', 'burnout', 'revenge', 'is', 'the', 'fourth', 'video', 'game', 'nbsp', 'in', 'the', 'burnout', 'burnout', 'series', 'burnout', 'is', 'series', 'of', 'high', 'speed', 'racing', 'games', 'for', 'the', 'playstation', 'playstation', 'playstation', 'portable', 'xbox', 'xbox', '360', 'nintendo', 'ds', 'and', 'nintendo', 'gamecube', 'game', 'consoles', 'also', 'for', 'the', 'very', 'first', 'time', 'pc', 'version', 'of', 'the', 'latest', 'installment', 'in', 'the', 'series', 'burnout', 'paradise', 'has', 'been', 'released', 'series', 'of', 'racing', 'games', 'released', 'for', 'the', 'playstation', 'playstation', 'the', 'playstation', 'is', 'sixth', 'generation', 'video', 'game', 'console', 'manufactured', 'by', 'sony', 'the', 'ps2', 'console', 'is', 'the', 'sequel', 'to', 'the', 'original', 'playstation', 'console', 'the', 'successor', 'to', 'the', 'playstation', 'and', 'the', 'predecessor', 'to', 'the', 'playstation', 'the', 'playstation', 'forms', 'part', 'of', 'the', 'playstation', 'series', 'of', 'video', 'game', 'nbsp', 'and', 'xbox', 'xbox', 'the', 'xbox', 'is', 'video', 'game', 'console', 'produced', 'by', 'microsoft', 'it', 'was', 'microsoft', 'first', 'foray', 'into', 'the', 'gaming', 'console', 'market', 'and', 'competed', 'with', 'sony', 'playstation', 'sega', 'dreamcast', 'and', 'nintendo', 'gamecube', 'nbsp', 'on', 'september', '13', '2005', 'and', 'xbox', '360', 'xbox', '360', 'the', 'xbox', '360', 'is', 'the', 'second', 'video', 'game', 'console', 'produced', 'by', 'microsoft', 'and', 'the', 'successor', 'to', 'the', 'xbox', 'the', 'xbox', '360', 'competes', 'with', 'sony', 'playstation', 'and', 'nintendo', 'wii', 'as', 'part', 'of', 'the', 'seventh', 'generation', 'of', 'video', 'game', 'consoles', 'nbsp', 'on', 'march', '2006', 'alongside', 'the', 'playstation', 'portable', 'playstation', 'portable', 'the', 'playstation', 'portable', 'is', 'handheld', 'game', 'console', 'manufactured', 'and', 'marketed', 'by', 'sony', 'computer', 'entertainment', 'development', 'of', 'the', 'console', 'was', 'announced', 'during', 'e3', '2003', 'and', 'it', 'was', 'unveiled', 'on', 'may', '11', '2004', 'at', 'sony', 'press', 'conference', 'before', 'e3', 'nbsp', '2004', 'nbsp', 'and', 'nintendo', 'ds', 'nintendo', 'ds', 'the', 'is', 'dual', 'screen', 'handheld', 'game', 'console', 'developed', 'and', 'manufactured', 'by', 'nintendo', 'it', 'was', 'released', 'in', '2004', 'in', 'canada', 'the', 'united', 'states', 'and', 'japan', 'the', 'console', 'features', 'clamshell', 'design', 'similar', 'to', 'the', 'game', 'boy', 'advance', 'sp', 'with', 'two', 'lcd', 'screens', 'inside', 'with', 'the', 'bottom', 'one', 'being', 'touchscreen', 'nbsp', 'title', 'burnout', 'legends', 'burnout', 'legends', 'burnout', 'legends', 'is', 'the', 'fifth', 'game', 'in', 'the', 'popular', 'burnout', 'franchise', 'specifically', 'released', 'for', 'the', 'playstation', 'portable', 'on', 'september', '13', '2005', 'and', 'the', 'nintendo', 'ds', 'on', 'november', '29', '2005', 'the', 'game', 'features', 'many', 'of', 'the', 'tracks', 'and', 'gameplay', 'modes', 'from', 'the', 'first', 'three', 'burnout', 'games', 'but', 'repackaged', 'for', 'the', 'similar', 'to', 'its', 'predecessor', 'burnout', 'takedown', 'burnout', 'takedown', 'burnout', 'takedown', 'is', 'the', 'third', 'game', 'in', 'the', 'burnout', 'series', 'of', 'video', 'games', 'released', 'on', 'september', '2004', 'developed', 'by', 'criterion', 'games', 'and', 'published', 'by', 'electronic', 'arts', 'the', 'game', 'drew', 'critical', 'acclaim', 'and', 'large', 'fanbase', 'gamecube', 'version', 'was', 'planned', 'but', 'was', 'scrapped', 'during', 'development', 'revenge', 'focuses', 'on', 'mixture', 'of', 'racing', 'in', 'the', 'midst', 'of', 'rush', 'hour', 'traffic', 'and', 'vehicular', 'combat', 'players', 'use', 'the', 'cars', 'themselves', 'as', 'weapons', 'revenge', 'also', 'expands', 'on', 'the', 'combat', 'side', 'of', 'its', 'gameplay', 'with', 'new', 'features', 'such', 'as', 'traffic', 'checking', 'ramming', 'same', 'way', 'traffic', 'vertical', 'takedowns', 'landing', 'on', 'rival', 'car', 'after', 'the', 'player', 'car', 'drives', 'over', 'jump', 'new', 'game', 'type', 'traffic', 'attack', 'and', 'significant', 'changes', 'to', 'the', 'gameplay', 'of', 'crash', 'mode', 'game', 'type', 'where', 'players', 'attempt', 'to', 'cause', 'as', 'large', 'crash', 'as', 'possible', 'sequel', 'to', 'burnout', 'revenge', 'titled', 'burnout', 'paradise', 'burnout', 'paradise', 'burnout', 'paradise', 'by', 'criterion', 'games', 'is', 'the', 'seventh', 'game', 'in', 'the', 'burnout', 'video', 'game', 'series', 'it', 'was', 'released', 'in', 'january', '2008', 'for', 'playstation', 'and', 'xbox', '360', 'and', 'on', 'february', '2009', 'on', 'microsoft', 'windows', 'it', 'was', 'also', 'released', 'on', 'the', 'playstation', 'store', 'in', 'september', '2008', 'and', 'via', 'xbox', 'live', 'marketplace', 'was', 'released', 'for', 'the', 'playstation', 'playstation', 'the', 'playstation', 'is', 'the', 'third', 'home', 'video', 'game', 'console', 'produced', 'by', 'sony', 'computer', 'entertainment', 'and', 'the', 'successor', 'to', 'the', 'playstation', 'as', 'part', 'of', 'the', 'playstation', 'series', 'nbsp', 'and', 'xbox', '360', 'xbox', '360', 'the', 'xbox', '360', 'is', 'the', 'second', 'video', 'game', 'console', 'produced', 'by', 'microsoft', 'and', 'the', 'successor', 'to', 'the', 'xbox', 'the', 'xbox', '360', 'competes', 'with', 'sony', 'playstation', 'and', 'nintendo', 'wii', 'as', 'part', 'of', 'the', 'seventh', 'generation', 'of', 'video', 'game', 'consoles', 'nbsp', 'on', 'january', '22', '2008', 'gameplay', 'in', 'burnout', 'revenge', 'players', 'compete', 'in', 'range', 'of', 'racing', 'game', 'types', 'with', 'different', 'aims', 'these', 'take', 'place', 'within', 'rush', 'hour', 'traffic', 'and', 'include', 'circuit', 'racing', 'road', 'rage', 'where', 'players', 'cause', 'as', 'many', 'rivals', 'to', 'crash', 'as', 'possible', 'within', 'time', 'limit', 'or', 'until', 'the', 'player', 'car', 'is', 'wrecked', 'burning', 'lap', 'single', 'lap', 'single', 'racer', 'time', 'attack', 'mode', 'eliminator', 'circuit', 'race', 'where', 'every', 'thirty', 'seconds', 'the', 'last', 'placed', 'racer', 'car', 'is', 'detonated', 'the', 'race', 'continues', 'until', 'only', 'one', 'racer', 'is', 'left', 'and', 'crash', 'where', 'the', 'player', 'is', 'placed', 'at', 'junction', 'with', 'the', 'aim', 'of', 'accumulating', 'as', 'many', 'crash', 'dollars', 'as', 'possible', 'new', 'gameplay', 'feature', 'in', 'burnout', 'revenge', 'is', 'the', 'ability', 'to', 'ram', 'same', 'way', 'small', 'to', 'medium', 'traffic', 'known', 'as', 'traffic', 'checking', 'propelling', 'the', 'rammed', 'car', 'forward', 'the', 'event', 'in', 'which', 'checked', 'car', 'hits', 'rival', 'is', 'considered', 'takedown', 'traffic', 'checking', 'is', 'the', 'focus', 'of', 'new', 'race', 'type', 'traffic', 'attack', 'whereby', 'player', 'must', 'earn', 'set', 'amount', 'of', 'crash', 'dollars', 'through', 'checking', 'traffic', 'which', 'can', 'be', 'used', 'later', 'on', 'during', 'these', 'events', 'players', 'have', 'access', 'to', 'limited', 'amount', 'of', 'boost', 'which', 'is', 'acquired', 'through', 'various', 'dangerous', 'driving', 'techniques', 'including', 'but', 'not', 'limited', 'to', 'driving', 'on', 'the', 'wrong', 'side', 'of', 'the', 'road', 'tailgating', 'opponents', 'and', 'drifting', 'unique', 'to', 'the', 'series', 'is', 'the', 'concept', 'of', 'battling', 'other', 'rivals', 'unlike', 'other', 'video', 'games', 'in', 'the', 'racing', 'genre', 'players', 'are', 'encouraged', 'and', 'sometimes', 'even', 'required', 'to', 'ram', 'rival', 'cars', 'and', 'cause', 'traffic', 'to', 'crash', 'causing', 'rival', 'to', 'crash', 'is', 'referred', 'to', 'as', 'takedown', 'rewarding', 'the', 'player', 'by', 'extending', 'the', 'length', 'of', 'their', 'boost', 'gauge', 'and', 'completely', 'refilling', 'it', 'in', 'designated', 'events', 'boost', 'can', 'also', 'be', 'used', 'to', 'activate', 'crashbreaker', 'during', 'crash', 'detonating', 'the', 'car', 'and', 'causing', 'other', 'nearby', 'cars', 'to', 'crash', 'when', 'the', 'rival', 'car', 'takes', 'the', 'player', 'down', 'the', 'player', 'will', 'have', 'to', 'take', 'the', 'ultimate', 'revenge', 'by', 'taking', 'down', 'the', 'revenge', 'rivals', 'which', 'the', 'arrow', 'at', 'the', 'top', 'of', 'the', 'car', 'turned', 'red', 'is', 'referred', 'to', 'as', 'revenge', 'takedown', 'in', 'the', 'main', 'single', 'player', 'game', 'mode', 'players', 'compete', 'in', 'world', 'tour', 'consisting', 'of', '169', 'events', 'across', 'three', 'continents', 'divided', 'into', 'series', 'of', '10', 'ranks', 'the', 'ranks', 'which', 'player', 'has', 'access', 'to', 'is', 'determined', 'by', 'their', 'revenge', 'rank', 'which', 'increases', 'after', 'completing', 'events', 'by', 'increasing', 'their', 'rank', 'sufficiently', 'the', 'player', 'ranks', 'up', 'and', 'unlocks', 'the', 'next', 'rank', 'of', 'events', 'the', 'game', 'also', 'features', 'support', 'for', 'multiplayer', 'gameplay', 'both', 'online', 'and', 'offline', 'in', 'addition', 'to', 'the', 'racing', 'modes', 'the', 'game', 'features', 'three', 'types', 'of', 'crash', 'modes', 'crash', 'battle', 'multiple', 'players', 'attempt', 'junction', 'at', 'the', 'same', 'time', 'crash', 'party', 'players', 'take', 'turns', 'at', 'attempting', 'junctions', 'across', 'several', 'rounds', 'and', 'crash', 'tour', 'golf', 'like', 'version', 'of', 'crash', 'party', 'with', 'players', 'attempting', 'to', 'accumulate', 'certain', 'amount', 'of', 'crash', 'dollars', 'in', 'as', 'few', 'attempts', 'as', 'possible', 'after', 'the', 'last', 'round', 'ends', 'the', 'player', 'with', 'the', 'lowest', 'score', 'wins', 'xbox', '360', 'version', 'the', 'xbox', '360', 'xbox', '360', 'the', 'xbox', '360', 'is', 'the', 'second', 'video', 'game', 'console', 'produced', 'by', 'microsoft', 'and', 'the', 'successor', 'to', 'the', 'xbox', 'the', 'xbox', '360', 'competes', 'with', 'sony', 'playstation', 'and', 'nintendo', 'wii', 'as', 'part', 'of', 'the', 'seventh', 'generation', 'of', 'video', 'game', 'consoles', 'nbsp', 'version', 'of', 'burnout', 'revenge', 'includes', 'several', 'new', 'features', 'and', 'improves', 'the', 'graphics', 'of', 'the', 'game', 'to', 'utilize', 'the', 'power', 'of', 'the', 'next', 'gen', 'console', 'the', 'game', 'includes', '10', 'new', 'crash', 'junctions', 'on', 'the', 'crash', 'tour', 'it', 'also', 'includes', 'vastly', 'improved', 'online', 'mode', 'that', 'introduces', 'online', 'revenge', 'rivals', 'this', 'system', 'allows', 'players', 'to', 'keep', 'track', 'of', 'their', 'number', 'of', 'times', 'they', 'have', 'been', 'taken', 'out', 'or', 'have', 'taken', 'out', 'any', 'given', 'player', 'the', 'new', 'version', 'also', 'includes', 'new', 'burnout', 'clips', 'feature', 'which', 'allows', 'to', 'save', '30', 'second', 'clips', 'of', 'any', 'offline', 'race', 'played', 'and', 'can', 'be', 'shared', 'them', 'with', 'other', 'players', 'over', 'xbox', 'live', 'xbox', 'live', 'xbox', 'live', 'is', 'an', 'online', 'multiplayer', 'gaming', 'and', 'digital', 'media', 'delivery', 'service', 'created', 'and', 'operated', 'by', 'microsoft', 'corporation', 'it', 'is', 'currently', 'the', 'only', 'online', 'gaming', 'service', 'that', 'charges', 'users', 'fee', 'to', 'play', 'multiplayer', 'gaming', 'it', 'was', 'first', 'made', 'available', 'to', 'the', 'xbox', 'system', 'in', '2002', 'furthermore', 'the', 'xbox', '360', 'version', 'removes', 'the', 'launch', 'meter', 'from', 'crash', 'mode', 'that', 'was', 'seen', 'in', 'the', 'ps2', 'xbox', 'version', 'bonus', 'vehicles', 'there', 'are', 'two', 'extra', 'vehicles', 'that', 'can', 'be', 'unlocked', 'by', 'the', 'presence', 'of', 'saved', 'game', 'from', 'another', 'title', 'on', 'the', 'memory', 'card', 'or', 'hard', 'drive', 'when', 'you', 'first', 'create', 'your', 'profile', 'madden', 'nfl', '06', 'save', 'will', 'unlock', 'the', 'madden', 'challenge', 'bus', 'and', 'burnout', 'takedown', 'burnout', 'takedown', 'burnout', 'takedown', 'is', 'the', 'third', 'game', 'in', 'the', 'burnout', 'series', 'of', 'video', 'games', 'released', 'on', 'september', '2004', 'developed', 'by', 'criterion', 'games', 'and', 'published', 'by', 'electronic', 'arts', 'the', 'game', 'drew', 'critical', 'acclaim', 'and', 'large', 'fanbase', 'gamecube', 'version', 'was', 'planned', 'but', 'was', 'scrapped', 'during', 'development', 'save', 'will', 'unlock', 'the', 'dominator', 'assassin', 'both', 'of', 'these', 'cars', 'are', 'available', 'only', 'for', 'crash', 'events', 'they', 'are', 'also', 'available', 'for', 'online', 'use', 'if', 'you', 'own', 'an', 'online', 'adapter', 'although', 'it', 'may', 'not', 'be', 'hidden', 'after', 'reaching', 'the', 'elite', 'rank', 'you', 'unlock', 'the', 'black', 'elite', 'racer', 'which', 'has', 'some', 'references', 'to', 'the', 'game', 'black', 'example', 'there', 'are', 'bullet', 'holes', 'all', 'around', 'the', 'car', 'and', 'the', 'license', 'plate', 'on', 'the', 'back', 'reads', 'kellar', 'which', 'is', 'who', 'you', 'play', 'as', 'in', 'black', 'downloadable', 'content', 'the', 'xbox', '360', 'xbox', '360', 'the', 'xbox', '360', 'is', 'the', 'second', 'video', 'game', 'console', 'produced', 'by', 'microsoft', 'and', 'the', 'successor', 'to', 'the', 'xbox', 'the', 'xbox', '360', 'competes', 'with', 'sony', 'playstation', 'and', 'nintendo', 'wii', 'as', 'part', 'of', 'the', 'seventh', 'generation', 'of', 'video', 'game', 'consoles', 'nbsp', 'version', 'of', 'burnout', 'revenge', 'was', 'the', 'first', 'game', 'to', 'take', 'advantage', 'of', 'kiosk', 'downloads', 'in', 'north', 'america', 'where', 'players', 'could', 'take', 'their', 'xbox', '360', 'memory', 'unit', 'nbsp', 'to', 'participating', 'stores', 'such', 'as', 'gamestop', 'gamestop', 'gamestop', 'corporation', 'is', 'an', 'american', 'video', 'game', 'and', 'entertainment', 'software', 'retailer', 'the', 'company', 'whose', 'headquarters', 'are', 'in', 'grapevine', 'texas', 'united', 'states', 'operates', '200', 'retail', 'stores', 'throughout', 'the', 'united', 'states', 'canada', 'australia', 'ireland', 'denmark', 'finland', 'france', 'germany', 'italy', 'new', 'zealand', 'circuit', 'city', 'circuit', 'city', 'circuit', 'city', 'stores', 'inc', 'was', 'an', 'american', 'retailer', 'in', 'brand', 'name', 'consumer', 'electronics', 'personal', 'computers', 'entertainment', 'software', 'and', 'large', 'appliances', 'the', 'company', 'opened', 'its', 'first', 'store', 'in', '1949', 'and', 'liquidated', 'its', 'final', 'american', 'retail', 'stores', 'in', '2009', 'following', 'bankruptcy', 'filing', 'and', 'subsequent', 'and', 'best', 'buy', 'best', 'buy', 'best', 'buy', 'co', 'inc', 'is', 'specialty', 'retailer', 'of', 'consumer', 'electronics', 'in', 'the', 'united', 'states', 'accounting', 'for', '19', 'of', 'the', 'market', 'it', 'also', 'operates', 'in', 'canada', 'mexico', 'and', 'china', 'the', 'company', 'subsidiaries', 'include', 'geek', 'squad', 'magnolia', 'audio', 'video', 'pacific', 'sales', 'and', 'in', 'canada', 'operates', 'under', 'both', 'the', 'best', 'and', 'download', 'new', 'content', 'for', 'the', 'game', 'onto', 'it', 'the', 'provided', 'content', 'varied', 'between', 'kiosks', 'xbox', 'live', 'marketplace', 'xbox', 'live', 'marketplace', 'the', 'xbox', 'live', 'marketplace', 'is', 'virtual', 'market', 'designed', 'for', 'microsoft', 'xbox', '360', 'console', 'that', 'allows', 'xbox', 'live', 'members', 'to', 'download', 'purchased', 'or', 'promotional', 'content', 'nbsp', 'content', 'is', 'also', 'available', 'in', 'the', 'form', 'of', 'new', 'cars', 'including', 'alienware', 'alienware', 'alienware', 'is', 'an', 'american', 'computer', 'hardware', 'company', 'and', 'wholly', 'owned', 'subsidiary', 'of', 'dell', 'inc', 'it', 'mainly', 'assembles', 'third', 'party', 'components', 'into', 'desktops', 'with', 'custom', 'enclosures', 'for', 'high', 'performance', 'gaming', 'these', 'products', 'also', 'support', 'graphically', 'intense', 'applications', 'such', 'as', 'video', 'editing', 'simulation', 'nbsp', 'car', 'dolby', 'nbsp', 'car', 'monster', 'monster', 'monster', 'is', 'any', 'type', 'of', 'legendary', 'creatures', 'which', 'usually', 'appear', 'in', 'legend', 'or', 'horror', 'fiction', 'the', 'word', 'monster', 'derives', 'from', 'the', 'latin', 'word', 'monstrum', 'meaning', 'omen', 'from', 'the', 'root', 'of', 'monere', 'and', 'also', 'meaning', 'prodigy', 'or', 'miracle', 'nbsp', 'car', 'plantronics', 'plantronics', 'plantronics', 'is', 'hardware', 'company', 'based', 'in', 'santa', 'cruz', 'california', 'that', 'specializes', 'in', 'lightweight', 'headsets', 'history', 'in', 'the', 'early', '1960s', 'airline', 'headsets', 'were', 'so', 'large', 'and', 'clunky', 'that', 'many', 'pilots', 'had', 'switched', 'back', 'to', 'the', 'use', 'of', 'handheld', 'microphones', 'for', 'communications', 'nbsp', 'car', 'spike', 'tv', 'spike', 'tv', 'spike', 'division', 'of', 'mtv', 'networks', 'is', 'an', 'american', 'cable', 'channel', 'designed', 'for', 'an', 'audience', 'described', 'demographically', 'as', 'young', 'adult', 'males', 'the', 'channel', 'began', 'life', 'as', 'the', 'nashville', 'network', 'founded', 'by', 'wsm', 'inc', 'nbsp', 'car', 'yellowcard', 'yellowcard', 'yellowcard', 'is', 'band', 'formed', 'in', 'jacksonville', 'florida', 'in', '1997', 'and', 'based', 'in', 'los', 'angeles', 'california', 'since', '2000', 'their', 'music', 'features', 'the', 'use', 'of', 'violin', 'unusual', 'for', 'the', 'genre', 'nbsp', 'car', 'reception', 'burnout', 'revenge', 'was', 'named', 'the', 'game', 'of', 'the', 'month', 'in', 'the', 'game', 'informer', 'game', 'informer', 'game', 'informer', 'is', 'an', 'american', 'based', 'monthly', 'magazine', 'featuring', 'articles', 'news', 'strategy', 'and', 'reviews', 'of', 'popular', 'video', 'games', 'and', 'associated', 'consoles', 'nbsp', 'october', '2005', 'issue', 'it', 'also', 'scored', 'for', 'ps2', 'and', 'xbox', 'and', 'for', 'xbox', '360', 'on', 'gamespot', 'eurogamer', 'eurogamer', 'eurogamer', 'is', 'brighton', 'based', 'website', 'focused', 'on', 'video', 'games', 'news', 'reviews', 'previews', 'and', 'interviews', 'it', 'is', 'operated', 'by', 'eurogamer', 'network', 'ltd', 'which', 'was', 'formed', 'in', '1999', 'by', 'brothers', 'rupert', 'and', 'nick', 'loman', 'eurogamer', 'has', 'grown', 'to', 'become', 'one', 'of', 'the', 'most', 'important', 'european', 'based', 'websites', 'focused', 'on', 'nbsp', 'gave', 'it', '10', 'while', 'ign', 'ign', 'ign', 'is', 'multimedia', 'news', 'and', 'reviews', 'website', 'that', 'focuses', 'heavily', 'on', 'video', 'games', 'nbsp', 'rated', 'it', '10', 'awards', 'ign', 'ign', 'ign', 'is', 'multimedia', 'news', 'and', 'reviews', 'website', 'that', 'focuses', 'heavily', 'on', 'video', 'games', '2005', 'best', 'use', 'of', 'sound', 'best', 'of', '2005', 'awards', '2005', 'editors', 'choice', 'ing', 'com', 'awards', '2006', 'xbox', '360', 'best', 'racing', 'driving', 'game', 'best', 'of', '2006', 'awards', '2006', 'overall', 'best', 'racing', 'driving', 'game', 'best', 'of', '2006', 'awards', 'spike', 'tv', 'spike', 'tv', 'spike', 'division', 'of', 'mtv', 'networks', 'is', 'an', 'american', 'cable', 'channel', 'designed', 'for', 'an', 'audience', 'described', 'demographically', 'as', 'young', 'adult', 'males', 'the', 'channel', 'began', 'life', 'as', 'the', 'nashville', 'network', 'founded', 'by', 'wsm', 'inc', '2005', 'best', 'driving', 'game', '2005', 'video', 'game', 'awards', '2006', 'best', 'driving', 'game', '2006', 'video', 'game', 'awards', '2006', 'best', 'song', 'lights', 'and', 'sounds', 'lights', 'and', 'sounds', 'lights', 'and', 'sounds', 'is', 'the', 'fifth', 'studio', 'album', 'by', 'american', 'pop', 'punk', 'band', 'yellowcard', 'released', 'on', 'january', '24', '2006', 'in', 'the', 'united', 'states', 'through', 'capitol', 'records', 'lights', 'and', 'sounds', 'is', 'yellowcard', 'first', 'concept', 'album', 'which', 'was', 'inspired', 'to', 'reflect', 'what', 'the', 'band', 'was', 'feeling', 'at', 'the', 'time', 'of', 'production', 'and', 'by', 'yellowcard', 'yellowcard', 'yellowcard', 'is', 'band', 'formed', 'in', 'jacksonville', 'florida', 'in', '1997', 'and', 'based', 'in', 'los', 'angeles', 'california', 'since', '2000', 'their', 'music', 'features', 'the', 'use', 'of', 'violin', 'unusual', 'for', 'the', 'genre', '2006', 'video', 'game', 'awards', 'gamespot', 'gamespot', 'gamespot', 'is', 'video', 'gaming', 'website', 'that', 'provides', 'news', 'reviews', 'previews', 'downloads', 'and', 'other', 'information', 'the', 'site', 'was', 'launched', 'in', 'may', '1996', 'by', 'pete', 'deemer', 'vince', 'broady', 'and', 'jon', 'epstein', 'it', 'was', 'purchased', 'by', 'zdnet', 'brand', 'which', 'was', 'later', 'purchased', 'by', 'cnet', 'networks', 'cbs', 'interactive', 'which', 'purchased', '2006', 'best', 'driving', 'game', '2006', 'best', 'worst', 'readers', 'choice', 'gametrailers', 'gametrailers', 'gametrailers', 'is', 'media', 'website', 'that', 'specializes', 'in', 'video', 'game', 'related', 'content', 'it', 'provides', 'free', 'access', 'to', 'original', 'programming', 'game', 'trailers', 'and', 'recorded', 'game', 'play', 'many', 'of', 'the', 'video', 'clips', 'are', 'offered', 'in', 'high', 'definition', 'along', 'with', 'standard', 'definition', 'users', 'can', 'upload', 'videos', 'create', 'blogs', 'and', '2006', 'best', 'racing', 'game', 'game', 'of', 'the', 'year', 'awards', 'gamedaily', 'gamedaily', 'is', 'video', 'game', 'journalism', 'website', 'based', 'in', 'the', 'united', 'states', 'launched', 'in', '1995', 'with', 'the', 'name', 'gigex', 'the', 'site', 'was', 'acquired', 'by', 'aol', 'on', 'august', '16', '2006', 'the', 'site', 'offers', 'articles', 'on', 'different', 'video', 'game', 'topics', 'with', 'lot', 'of', 'lists', 'where', 'games', 'are', 'ranked', '2006', 'best', 'game', 'to', 'burn', 'rubber', 'with', 'nod', 'awards', 'develop', 'industry', 'excellence', 'awards', '2006', 'best', 'art', 'sound', 'joint', 'award', 'with', 'black', 'black', 'black', 'is', 'the', 'color', 'of', 'objects', 'that', 'do', 'not', 'emit', 'or', 'reflect', 'light', 'in', 'any', 'part', 'of', 'the', 'visible', 'spectrum', 'they', 'absorb', 'all', 'such', 'frequencies', 'of', 'light', 'aias', 'interactive', 'achievement', 'awards', '2007', 'racing', 'game', 'of', 'the', 'year', 'burnout', 'burnout', 'series', 'burnout', 'is', 'series', 'of', 'high', 'speed', 'racing', 'games', 'for', 'the', 'playstation', 'playstation', 'playstation', 'portable', 'xbox', 'xbox', '360', 'nintendo', 'ds', 'and', 'nintendo', 'gamecube', 'game', 'consoles', 'also', 'for', 'the', 'very', 'first', 'time', 'pc', 'version', 'of', 'the', 'latest', 'installment', 'in', 'the', 'series', 'burnout', 'paradise', 'has', 'been', 'released', '2005', 'best', 'game', 'in', 'series', 'electronic', 'entertainment', 'expo', '2005', 'best', 'driving', 'game', 'best', 'of', 'e3', 'game', 'critics', 'awards', 'external', 'links', 'official', 'ea', 'web', 'site', 'official', 'criterion', 'games', 'web', 'site', 'gamespot', 'burnout', 'revenge', 'review']\n",
            "['laptop', 'emergency', 'welcome', 'to', 'webmasterworld', 'guest', 'from', '84', '77', '46', 'register', 'login', 'search', 'glossary', 'subscribe', 'help', 'library', 'pubcon', 'announcements', 'recent', 'posts', 'unanswered', 'posts', 'accredited', 'paypal', 'world', 'seller', 'home', 'forums', 'index', 'local', 'foo', 'forum', 'library', 'charter', 'moderators', 'lawman', 'foo', 'nbsp', 'nbsp', 'nbsp', 'laptop', 'emergency', 'accidentally', 'changed', 'laptop', 'combo', 'mcg321', '3082243', 'nbsp', '12', '33', 'am', 'on', 'sep', '14', '2006', 'utc', 'alright', 'here', 'the', 'story', 'just', 'got', 'an', 'microsaver', 'portable', 'notebook', 'combination', 'lock', 'last', 'week', 'and', 'few', 'days', 'ago', 'removed', 'it', 'from', 'my', 'laptop', 'in', 'order', 'to', 'take', 'it', 'somewhere', 'that', 'went', 'fine', 'however', 'when', 'was', 'putting', 'the', 'lock', 'back', 'on', 'was', 'having', 'some', 'difficulties', 'so', 'tried', 'different', 'things', 'to', 'put', 'it', 'back', 'on', 'flip', 'the', 'switch', 'on', 'top', 'put', 'it', 'to', 'my', 'combo', 'to', 'get', 'it', 'on', 'etc', 'whatever', 'did', 'think', 'accidentally', 'changed', 'the', 'combo', 'because', 'now', 'the', 'damn', 'thing', 'won', 'come', 'off', 'this', 'might', 'be', 'one', 'of', 'the', 'stupidest', 'things', 've', 'ever', 'done', 'and', 'pretty', 'embarassed', 'to', 'admit', 'it', 'but', 'don', 'know', 'what', 'to', 'do', 'anyone', 'experience', 'this', 'before', 'sure', 'hope', 'not', 'heh', 'any', 'ideas', 'thanks', 'ton', 'billys', '3082322', 'nbsp', '15', 'am', 'on', 'sep', '14', '2006', 'utc', 'how', 'do', 'personalize', 'change', 'the', 'combination', 'on', 'my', 'notebook', 'combosaver', 'to', 'personalize', 'or', 'change', 'your', 'notebook', 'combosaver', 'combination', 'rotate', 'the', 'combination', 'wheels', 'to', 'the', 'current', 'code', 'the', 'pre', 'set', 'factory', 'code', 'is', '000', 'press', 'the', 'reset', 'button', 'at', 'the', 'end', 'of', 'the', 'lock', 'body', 'just', 'look', 'for', 'the', 'kensington', 'logo', 'small', 'picture', 'of', 'padlock', 'with', 'inside', 'it', 'while', 'pressing', 'the', 'reset', 'button', 'set', 'your', 'combination', 'to', 'number', 'of', 'your', 'choice', 'aligned', 'with', 'the', 'black', 'line', 'in', 'setting', 'the', 'combination', 'choose', 'something', 'that', 'is', 'easy', 'to', 'remember', 'important', 'do', 'not', 'let', 'go', 'of', 'the', 'reset', 'button', 'while', 'setting', 'the', 'combination', 'if', 'the', 'button', 'is', 'released', 'while', 'you', 'are', 'setting', 'the', 'combination', 'the', 'combosaver', 'will', 'set', 'to', 'combination', 'that', 'you', 'may', 'not', 'have', 'specified', 'release', 'the', 'reset', 'button', 'your', 'new', 'combination', 'is', 'now', 'set', 'my', 'lock', 'will', 'not', 'open', 'with', 'the', 'combination', 'set', 'it', 'to', 'what', 'do', 'do', 'to', 'maintain', 'the', 'highest', 'levels', 'of', 'security', 'for', 'your', 'belongings', 'there', 'is', 'no', 'master', 'combination', 'to', 'bypass', 'the', 'locking', 'mechanism', 'if', 'for', 'any', 'reason', 'the', 'correct', 'combination', 'will', 'not', 'open', 'the', 'lock', 'please', 'go', 'to', 'support', 'kensington', 'com', 'and', 'select', 'the', 'email', 'technical', 'support', 'link', 'nbsp', 'home', 'forums', 'index', 'local', 'foo', 'all', 'trademarks', 'and', 'copyrights', 'held', 'by', 'respective', 'owners', 'member', 'comments', 'are', 'owned', 'by', 'the', 'poster', 'terms', 'of', 'service', 'brvbar', 'privacy', 'policy', 'brvbar', 'report', 'problem', 'brvbar', 'about', 'webmasterworld', 'reg', 'and', 'pubcon', 'reg', 'are', 'registered', 'trademarks', 'of', 'webmasterworld', 'inc', 'copy', 'webmasterworld', 'inc', '1996', '2010', 'all', 'rights', 'reserved']\n",
            "['spike', 'tv', 'awards', 'brad', 'pitt', 'mel', 'gibson', 'and', 'halle', 'berry', 'butt', 'grab', 'photos', 'brad', 'pitt', 'gossip', 'login', 'nbsp', 'nbsp', 'join', 'home', 'celebrities', 'barack', 'obama', 'twitter', 'twilight', 'nbc', 'american', 'idol', 'robert', 'pattinson', 'tiger', 'woods', 'lady', 'gaga', 'hot', 'topics', 'fashion', 'deaths', 'hospital', 'crime', 'academy', 'awards', 'weddings', 'earthquakes', 'internet', 'photos', 'most', 'recent', 'most', 'popular', 'videos', 'most', 'recent', 'most', 'popular', 'twitter', 'tweets', 'twitter', 'pics', 'twitter', 'rankings', 'featured', 'stories', 'cynthia', 'nixon', 'honored', 'by', 'glaad', 'read', 'the', 'story', 'gt', 'gt', 'renee', 'zellweger', 'is', 'walking', 'on', 'sunshine', 'read', 'the', 'story', 'gt', 'gt', 'picture', 'of', 'the', 'day', 'gerard', 'butler', 'read', 'the', 'story', 'gt', 'gt', 'george', 'clooney', 'sure', 'has', 'some', 'funny', 'faces', 'read', 'the', 'story', 'gt', 'gt', 'zachary', 'levi', 'talks', 'about', 'being', 'recognized', 'chuck', 'read', 'the', 'story', 'gt', 'gt', 'breaking', 'news', 'spike', 'tv', 'awards', 'brad', 'pitt', 'mel', 'gibson', 'and', 'halle', 'berry', 'butt', 'grab', 'photos', 'the', 'huffington', 'post', '31st', 'may', '2009', 'votes', 'the', 'spike', 'tv', 'guy', '39', 'choice', 'awards', 'took', 'place', 'in', 'los', 'angeles', 'on', 'saturday', 'night', 'stars', 'turned', 'out', 'to', 'collect', 'awards', 'like', 'quot', 'funnest', 'mother', 'fucker', 'quot', 'and', 'quot', 'hot', '39', 'fresh', 'quot', 'and', 'quot', 'brass', 'balls', 'quot', 'from', 'the', 'guy', 'oriented', 'cable', 'network', 'comment', 'on', 'this', 'story', 'nbsp', 'read', 'full', 'story', 'at', 'the', 'huffington', 'post', 'in', 'this', 'story', 'brad', 'pitt', 'halle', 'berry', 'mel', 'gibson', 'people', 'choice', 'awards', 'more', 'coverage', 'brad', 'pitt', 'pitt', 'picks', 'up', 'guys', 'choice', 'honour', 'pokes', 'fun', 'at', 'gibson', 'brad', 'pitt', 'poked', 'fun', 'at', 'fellow', 'movie', 'star', 'mel', 'gibson', 'at', 'the', 'spike', 'tv', 'guys', 'choice', 'awards', 'in', 'los', 'angeles', 'on', 'saturday', 'pitt', 'picks', 'up', 'guys', 'choice', 'honour', 'pokes', 'fun', 'at', 'gibson', 'brad', 'pitt', 'poked', 'fun', 'at', 'fellow', 'movie', 'star', 'mel', 'gibson', 'at', 'the', 'spike', 'tv', 'guys', 'choice', 'awards', 'in', 'los', 'angeles', 'on', 'saturday', 'brad', 'pitt', 'teases', 'mel', 'gibson', 'about', 'his', 'sugar', 'tits', 'at', 'spike', 'tv', 'guys', 'choice', 'awards', 'yesterday', 'in', 'los', 'angeles', 'brad', 'pitt', 'showed', 'off', 'his', 'more', 'playful', 'side', 'when', 'he', 'went', 'on', 'stage', 'to', 'accept', 'an', 'award', 'along', 'with', 'edward', 'norton', 'for', 'fight', 'club', 'share', 'this', 'related', 'content', 'brad', 'pitt', 'pitt', 'picks', 'up', 'guys', 'choice', 'honour', 'pokes', 'fun', 'at', 'gibson', 'brad', 'pitt', 'poked', 'fun', 'at', 'fellow', 'movie', 'star', 'mel', 'gibson', 'at', 'the', 'spike', 'tv', 'guys', 'choice', 'awards', 'in', 'los', 'angeles', 'on', 'saturday', 'night', '30may09', 'by', 'referencing', 'the', 'braveheart', 'star', '2006', 'drink', 'driving', 'arrest', 'during', 'his', 'hall', 'of', 'fame', 'induction', 'speech', 'gibson', 'opened', 'the', 'show', 'at', 'sony', 'studios', 'by', 'riding', 'onstage', 'on', 'horseback', 'wearing', 'viking', 'helmet', 'to', 'present', 'pitt', 'edward', 'norton', 'and', 'director', 'david', 'fincher', 'with', 'the', 'discretionary', 'guy', 'movie', 'hall', 'of', 'fame', 'award', 'for', 'their', 'work', 'on', 'cult', 'film', 'fight', 'club', 'but', 'pitt', 'pitt', 'picks', 'up', 'guys', 'choice', 'honour', 'pokes', 'fun', 'at', 'gibson', 'brad', 'pitt', 'poked', 'fun', 'at', 'fellow', 'movie', 'star', 'mel', 'gibson', 'at', 'the', 'spike', 'tv', 'guys', 'choice', 'awards', 'in', 'los', 'angeles', 'on', 'saturday', 'night', '30may09', 'by', 'referencing', 'the', 'braveheart', 'star', '2006', 'drink', 'driving', 'arrest', 'during', 'his', 'hall', 'of', 'fame', 'induction', 'speech', 'gibson', 'opened', 'the', 'show', 'at', 'sony', 'studios', 'by', 'riding', 'onstage', 'on', 'horseback', 'wearing', 'viking', 'helmet', 'to', 'present', 'pitt', 'edward', 'norton', 'and', 'director', 'david', 'fincher', 'with', 'the', 'discretionary', 'guy', 'movie', 'hall', 'of', 'fame', 'award', 'for', 'their', 'work', 'on', 'cult', 'film', 'fight', 'club', 'but', 'pitt', 'brad', 'pitt', 'teases', 'mel', 'gibson', 'about', 'his', 'sugar', 'tits', 'at', 'spike', 'tv', 'guys', 'choice', 'awards', 'yesterday', 'in', 'los', 'angeles', 'brad', 'pitt', 'showed', 'off', 'his', 'more', 'playful', 'side', 'when', 'he', 'went', 'on', 'stage', 'to', 'accept', 'an', 'award', 'along', 'with', 'edward', 'norton', 'for', 'fight', 'club', 'the', 'film', 'was', 'inducted', 'into', 'the', 'guy', 'hall', 'of', 'fame', 'prize', 'announced', 'by', 'mel', 'gibson', 'and', 'upon', 'accepting', 'the', 'honor', 'pitt', 'told', 'mel', 'quot', 'thanks', 'sugar', 'tits', 'quot', 'aww', 'that', 'makes', 'me', 'nostalgic', 'after', 'that', 'pitt', 'took', 'the', 'opportunity', 'to', 'plug', 'his', 'new', 'film', 'inglourious', 'basterds', 'and', 'informed', 'the', 'audience', 'halle', 'berry', 'jamie', 'foxx', 'spike', 'tv', 'kissing', 'video', 'photos', 'halle', 'berry', 'was', 'the', 'recipient', 'of', 'the', 'decades', 'of', 'hotness', 'award', 'last', 'night', 'at', 'spike', 'tv', '2009', 'guys', 'choice', 'awards', 'halle', 'berry', 'jamie', 'foxx', 'make', 'out', 'photos', 'video', 'halle', 'berry', 'stunning', 'makeout', 'session', 'with', 'jamie', 'foxx', 'at', 'spike', 'awards', 'actress', 'halle', 'berry', 'looked', 'absolutely', 'stunning', 'in', 'her', 'sexy', 'black', 'dress', 'at', 'the', 'spike', 'tv', 'guys', 'choice', 'awards', 'held', 'at', 'halle', 'berry', '2009', 'spike', 'tv', 'guys', 'choice', 'awards', 'so', 'in', 'addition', 'to', 'the', 'photos', 'of', 'halle', 'berry', 'on', 'the', 'red', 'carpet', 'there', 'are', 'photos', 'of', 'halle', 'making', 'out', 'with', 'jamie', 'foxx', 'on', 'stage', 'sorry', 'but', 'just', 'couldn', 'stand', 'to', 'post', 'those', 'no', 'idea', 'what', 'the', 'deal', 'is', 'between', 'the', 'two', 'but', 'yeah', 'what', 'lucky', 'bastard', 'he', 'grabbed', 'handful', 'of', 'ass', 'halle', 'berry', 'gives', 'jamie', 'foxx', 'hand', 'job', 'on', 'tv', 'jamie', 'foxx', 'and', 'halle', 'berry', 'were', 'at', 'the', 'spike', 'tv', '8217', '2009', '8220', 'guys', 'choice', 'awards', '8221', 'last', 'night', 'halle', 'decided', 'to', 'give', 'jamie', 'something', 'he', '8217', 'probably', 'been', 'dreaming', 'about', 'since', 'he', 'got', 'into', 'the', 'hollywierd', 'game', 'crazy', 'pop', 'the', 'top', 'and', 'see', 'the', 'sequence', 'jamie', 'foxx', 'and', 'halle', 'berry', 'make', 'out', 'alert', 'at', 'the', 'network', 'guys', 'choice', 'awards', 'halle', 'berry', 'picked', 'up', 'the', 'decade', 'of', 'hotness', 'honor', 'and', 'she', 'celebrated', 'by', 'making', 'men', 'everywhere', 'despise', 'jamie', 'foxx', 'the', 'gorgeous', '42', 'year', 'old', 'got', 'to', 'first', 'base', 'and', 'bit', 'more', 'with', 'the', 'oscar', 'winning', 'actor', 'just', 'look', 'at', 'the', 'location', 'of', 'his', 'hand', 'and', 'hers', 'click', 'on', 'the', 'pics', 'above', 'to', 'get', 'closer', 'look', 'at', 'jamie', 'foxx', 'and', 'halle', 'berry', 'locking', 'lips', 'brad', 'pitt', 'teases', 'actor', 'mel', 'gibson', 'about', 'dui', 'arrest', 'brad', 'pitt', 'teases', 'actor', 'mel', 'gibson', 'about', 'dui', 'arrest', 'he', 'calls', 'the', 'actor', 'sugar', 'at', 'an', 'awards', 'show', 'brad', 'pitt', 'halle', 'berry', 'fire', 'up', 'the', 'spike', 'tv', 'awards', 'list', 'celebs', 'locked', 'lips', 'rode', 'in', 'on', 'horseback', 'and', 'played', 'with', 'fire', 'at', 'the', 'unconventional', 'spike', 'tv', '2009', 'guys', 'choice', 'awards', 'at', 'sony', 'studios', 'et', 'has', 'the', 'pics', 'spike', 'tv', 'announces', '2009', 'guys', 'choice', 'winners', 'third', 'annual', 'show', 'pays', 'homage', 'to', 'the', 'lords', 'of', 'the', 'kingdom', 'of', 'testosterone', 'premieres', 'on', 'spike', 'tv', 'sunday', 'june', '21', 'at', '10', '00', 'pm', 'et', 'pt', 'brad', 'pitt', 'edward', 'norton', 'and', 'david', 'fincher', 'electrify', 'audience', 'as', 'fight', 'club', 'is', 'inducted', 'into', 'guy', 'movie', 'hall', 'of', 'fame', 'receiving', 'the', 'award', 'from', 'mel', 'gibson', 'clint', 'eastwood', 'receives', 'brass', 'balls', 'award', 'mickey', 'rourke', 'named', 'guy', 'of', 'the', 'year', 'show', 'features', 'performances', 'and', 'appearances', 'by', 'halle', 'berry', 'jamie', 'foxx', 'new', 'photos', 'of', 'angie', 'on', 'salt', 'set', 'and', 'halle', 'berry', 'clinging', 'to', 'brad', 'see', 'little', 'bump', 'doesn', '8217', 'hurt', 'our', 'angelina', 'jolie', 'new', 'photos', 'of', 'angie', 'surfaced', 'this', 'evening', 'working', 'hard', 'on', 'the', 'salt', 'set', 'from', 'what', '8217', 'hearing', 'this', 'is', 'her', 'last', 'week', 'filming', 'wow', 'that', 'went', 'fast', 'didn', '8217', 'it', 'so', 'it', 'makes', 'sense', 'that', 'she', '8217', 'trying', 'to', 'get', 'it', 'all', 'done', 'brad', 'pitt', 'calls', 'mel', 'gibson', 'sugar', 'tits', 'hilarity', 'ensues', 'brad', 'mel', 'david', 'fincher', 'and', 'edward', 'norton', 'halle', 'berry', 'gets', 'steamy', 'with', 'jamie', 'foxx', 'on', 'stage', 'london', 'june', 'ani', 'hollywood', 'actress', 'halle', 'berry', 'got', 'little', 'overfriendly', 'with', 'actor', 'jamie', 'foxx', 'as', 'he', 'presented', 'her', 'with', '8216', 'decade', 'of', 'hotness', '8217', 'gong', 'in', 'los', 'angeles', 'halle', 'berry', 'circling', 'surrogate', 'halle', 'berry', 'is', 'in', 'talks', 'to', 'star', 'in', 'thriller', 'the', 'surrogate', 'for', '20th', 'century', 'fox', 'helmer', 'paul', 'verhoeven', 'is', 'onboard', 'to', 'develop', 'the', 'project', 'which', 'revolves', 'around', 'couple', 'who', 'hire', 'surrogate', 'to', 'carry', 'their', 'child', 'and', 'find', 'out', 'mid', 'term', 'that', 'the', 'surrogate', 'is', 'insane', 'project', 'would', 'mark', 'berry', 'return', 'to', 'the', 'bigscreen', 'after', 'having', 'baby', 'last', 'year', 'she', 'hasn', 'starred', 'in', 'film', 'since', '2007', 'perfect', 'stranger', 'opposite', 'bruce', 'willis', 'the', 'surrogate', 'which', 'had', 'been', 'in', 'development', 'at', 'the', 'now', 'shuttered', 'halle', 'berry', 'in', 'talks', 'for', 'surrogate', 'halle', 'berry', 'in', 'talks', 'for', 'surrogate', 'halle', 'berry', 'is', 'in', 'talks', 'to', 'star', 'in', 'the', 'thriller', 'the', 'surrogate', 'which', 'paul', 'verhoeven', 'recently', 'agreed', 'to', 'develop', 'and', 'direct', 'halle', 'berry', 'accepts', 'decade', 'of', 'hotness', 'award', 'halle', 'berry', 'is', 'honored', 'with', 'the', 'decade', 'of', 'hotness', 'award', 'at', 'spike', 'tv', '8217', '2009', '8220', 'guys', 'choice', '8221', 'awards', 'held', 'at', 'the', 'sony', 'studios', 'on', 'saturday', 'may', '30', 'in', 'los', 'angeles', 'the', '42', 'year', 'old', 'actress', 'had', 'very', 'special', 'moment', 'with', 'jamie', 'foxx', 'who', 'was', 'on', 'hand', 'to', 'present', 'the', 'award', 'to', 'halle', 'jamie', 'thanked', 'halle', 'by', 'kissing', 'her', 'on', 'the', 'lips', 'and', 'giving', 'her', 'nice', 'squeeze', 'on', 'her', 'tush', 'looks', 'like', 'they', 'both', 'really', 'enjoyed', 'it', '35', 'pictures', 'inside', 'decade', 'of', 'hotness', 'winner', 'halle', 'berry', 'halle', 'berry', 'wins', 'hotness', 'award', 'halle', 'berry', 'in', 'the', 'market', 'for', 'surrogate', 'halle', 'berry', 'is', 'in', 'the', 'market', 'for', 'surrogate', 'but', 'only', 'if', 'she', '8217', 'one', 'crazy', 'biatch', 'luckily', 'for', 'her', 'thr', 'reports', 'that', 'she', '8217', 'currently', 'in', 'negotiations', 'to', 'star', 'as', 'the', 'non', 'crazy', 'biatch', 'in', 'the', 'thriller', '8220', 'the', 'surrogate', '8221', 'if', 'she', 'signs', 'on', 'the', 'dotted', 'line', 'berry', 'would', 'play', 'the', 'female', 'half', 'of', 'married', 'couple', 'desperate', 'to', 'have', 'child', 'only', 'to', 'discover', 'that', 'the', 'surrogate', 'they', '8217', 've', 'chosen', 'to', 'carry', 'their', 'child', 'is', 'well', 'out', 'of', 'her', 'flippin', '8217', 'mind', 'halle', 'berry', 'in', 'talks', 'for', 'surrogate', 'the', 'move', 'follows', 'paul', 'verhoeven', 'boarding', 'to', 'develop', 'and', 'direct', 'the', 'thriller', 'which', 'ralph', 'winter', 'is', 'producing', 'along', 'with', 'deborah', 'giarratana', 'robin', 'guthrie', 'and', 'susana', 'zepeda', 'based', 'on', 'the', '2004', 'book', 'by', 'kathryn', 'mackel', 'the', 'story', 'centers', 'on', 'couple', 'desperate', 'to', 'have', 'child', 'who', 'find', 'themselves', 'in', 'an', 'unbearable', 'position', 'when', 'they', 'find', 'out', 'the', 'surrogate', 'they', 'hired', 'to', 'carry', 'their', 'baby', 'is', 'insane', 'berry', 'is', 'interested', 'in', 'the', 'part', 'and', 'fox', 'is', 'keen', 'to', 'have', 'her', 'do', 'it', 'though', 'official', 'dealmaking', 'has', 'yet', 'spike', 'tv', 'guys', 'choice', 'awards', 'spike', 'tv', 'the', 'network', 'for', 'all', 'things', 'guys', 'seem', 'to', 'dig', 'hosted', 'their', 'guys', 'choice', 'awards', 'in', 'los', 'angeles', 'tonight', 'and', 'lars', 'and', 'robert', 'were', 'there', 'to', 'collect', 'the', 'ballsiest', 'band', 'award', 'there', 'first', 'thornton', 'daughter', 'charged', 'in', 'death', 'of', 'year', 'old', 'jamie', 'foxx', 'and', 'halle', 'berry', 'create', 'sparks', 'at', 'spike', 'tv', '2009', 'guys', 'choice', 'awards', 'sacha', 'baron', 'cohen', 'as', 'bruno', 'hangs', 'out', 'with', 'hollywood', 'big', 'hitters', 'jordin', 'sparks', 'serenades', 'and', 'much', 'more', 'see', 'pics', 'you', 'missed', 'halle', 'hottest', 'decade', 'any', 'doubts', 'halle', 'berry', 'had', 'about', 'returning', 'to', 'work', 'after', 'the', 'birth', 'of', 'her', 'daughter', 'were', 'blown', 'away', 'last', 'night', 'when', 'she', 'was', 'given', 'the', 'decade', 'of', 'hotness', 'award', 'at', 'the', 'spike', 'tv', 'guys', 'choice', 'awards', 'halle', 'smoulderedin', 'black', 'halterneck', 'frock', 'and', 'her', 'reaction', 'to', 'nabbing', 'the', 'award', 'wasto', 'plant', 'kiss', 'on', 'momentarily', 'surprised', 'presenter', 'jamie', 'foxx', 'but', 'jamie', 'was', 'only', 'taken', 'aback', 'for', 'second', 'before', 'he', 'seized', 'theopportunity', 'to', 'congratulate', 'halle', 'halle', 'steals', 'victory', 'kiss', 'any', 'doubts', 'halle', 'berry', 'had', 'about', 'returning', 'to', 'work', 'after', 'the', 'birth', 'of', 'her', 'daughter', 'were', 'blown', 'away', 'last', 'night', 'when', 'she', 'was', 'given', 'the', 'decade', 'of', 'hotness', 'award', 'at', 'the', 'spike', 'tv', 'guys', 'choice', 'awards', 'halle', 'smouldered', 'in', 'black', 'halterneck', 'frock', 'and', 'her', 'reaction', 'to', 'nabbing', 'the', 'award', 'was', 'to', 'plant', 'kiss', 'on', 'momentarily', 'surprised', 'presenter', 'jamie', 'foxx', 'but', 'jamie', 'was', 'only', 'taken', 'aback', 'for', 'second', 'before', 'he', 'seized', 'the', 'opportunity', 'to', 'get', 'ready', 'for', 'the', 'mtv', 'movie', 'awards', 'jamie', 'foxx', 'and', 'halle', 'berry', 'create', 'sparks', 'at', 'spike', 'tv', '2009', 'guys', 'choice', 'awards', 'sacha', 'baron', 'cohen', 'as', 'bruno', 'hangs', 'out', 'with', 'hollywood', 'big', 'hitters', 'jordin', 'sparks', 'serenades', 'and', 'much', 'more', 'see', 'pics', 'you', 'missed', 'leave', 'comment', 'name', 'email', 'your', 'comment', 'email', 'me', 'when', 'comments', 'are', 'added', 'if', 'you', 'are', 'commenting', 'as', 'guest', 'enter', 'your', 'personal', 'information', 'in', 'the', 'form', 'provided', 'don', 'worry', 'your', 'privacy', 'is', 'safe', 'you', 'can', 'also', 'login', 'to', 'your', 'account', 'or', 'use', 'one', 'of', 'the', 'following', 'methods', 'hot', 'today', 'barack', 'obama', 'hospital', 'corey', 'haim', 'sxsw', 'deaths', 'health', 'care', 'twilight', 'twitter', 'elections', 'kristen', 'stewart', 'internet', 'eclipse', 'nbc', 'joe', 'jonas', 'senate', 'jennifer', 'love', 'demi', 'lovato', 'new', 'moon', 'the', 'runaways', 'robert', 'pattinson', 'republicans', 'jamie', 'kennedy', 'crime', 'fashion', 'weddings', 'prison', 'prescription', 'military', 'manny', 'pacquiao', 'suicide', 'get', 'more', 'celebrifi', 'follow', 'celebrifi', 'on', 'twitter', 'send', 'tip', 'bookmark', 'us', 'login', 'using', 'facebook', 'login', 'using', 'twitter', 'rss', 'feed', 'get', 'email', 'alerts', 'the', 'celebrifi', 'network', 'celebrity', 'twitter', 'twilight', 'whisper', 'harry', 'pottering', 'american', 'idolizing', 'the', 'tv', 'realist', 'britney', 'spears', 'watcher', 'filmifi', 'peepbuzz', 'about', 'us', 'who', 'are', 'we', 'how', 'does', 'it', 'work', 'privacy', 'policy', 'terms', 'of', 'service', 'contact', 'us', 'newsroom', 'copy', 'copyright', 'celebrifi', '2010']\n"
          ],
          "name": "stdout"
        }
      ]
    },
    {
      "cell_type": "code",
      "metadata": {
        "id": "tK1ai-QNZtXy",
        "colab_type": "code",
        "outputId": "c714d6ee-cdf0-4069-d2dd-61ff02d90881",
        "colab": {
          "base_uri": "https://localhost:8080/",
          "height": 34
        }
      },
      "source": [
        "#Ejemplo bigrama (mas semantica)\n",
        "bigram_vectorizer = CountVectorizer(ngram_range=(1, 2), \n",
        "                                    token_pattern=r'\\b\\w+\\b', min_df=1)\n",
        "analyze = bigram_vectorizer.build_analyzer()\n",
        "analyze('Fucking Jim man!')"
      ],
      "execution_count": 7,
      "outputs": [
        {
          "output_type": "execute_result",
          "data": {
            "text/plain": [
              "['fucking', 'jim', 'man', 'fucking jim', 'jim man']"
            ]
          },
          "metadata": {
            "tags": []
          },
          "execution_count": 7
        }
      ]
    },
    {
      "cell_type": "code",
      "metadata": {
        "id": "C1rMByPZlY68",
        "colab_type": "code",
        "colab": {}
      },
      "source": [
        "bmatriz_tf = bigram_vectorizer.fit_transform(corpus)\n",
        "bigram_vectorizer.get_feature_names()"
      ],
      "execution_count": 0,
      "outputs": []
    },
    {
      "cell_type": "markdown",
      "metadata": {
        "id": "42d4vw1YaRdp",
        "colab_type": "text"
      },
      "source": [
        "**Creamos las queries y las tokenizamos**"
      ]
    },
    {
      "cell_type": "code",
      "metadata": {
        "id": "t8qIimNqR7vh",
        "colab_type": "code",
        "outputId": "8e07f0ca-e1c1-4ce5-ec63-5e6b96505d1e",
        "colab": {
          "base_uri": "https://localhost:8080/",
          "height": 34
        }
      },
      "source": [
        "query = [\n",
        "    \"What video game won Spike's best driving game award in 2006?\"\n",
        "]\n",
        "query"
      ],
      "execution_count": 8,
      "outputs": [
        {
          "output_type": "execute_result",
          "data": {
            "text/plain": [
              "[\"What video game won Spike's best driving game award in 2006?\"]"
            ]
          },
          "metadata": {
            "tags": []
          },
          "execution_count": 8
        }
      ]
    },
    {
      "cell_type": "code",
      "metadata": {
        "id": "TRws6EDQVbob",
        "colab_type": "code",
        "colab": {
          "base_uri": "https://localhost:8080/",
          "height": 34
        },
        "outputId": "6e02aaf6-1e56-4e06-f13b-2cad79312caa"
      },
      "source": [
        "query_tf = vectorizer.transform(query)\n",
        "query_tf.toarray()"
      ],
      "execution_count": 9,
      "outputs": [
        {
          "output_type": "execute_result",
          "data": {
            "text/plain": [
              "array([[0, 0, 0, ..., 0, 0, 0]])"
            ]
          },
          "metadata": {
            "tags": []
          },
          "execution_count": 9
        }
      ]
    },
    {
      "cell_type": "markdown",
      "metadata": {
        "id": "yCbhOU3kanjw",
        "colab_type": "text"
      },
      "source": [
        "**Analizamos la similitud de la query con los documentos**"
      ]
    },
    {
      "cell_type": "code",
      "metadata": {
        "id": "fsMc0GV3HIVs",
        "colab_type": "code",
        "colab": {
          "base_uri": "https://localhost:8080/",
          "height": 34
        },
        "outputId": "0631c9d2-0555-4a3a-ec1d-488026327a1c"
      },
      "source": [
        "#Similitud por Producto Escalar TF\n",
        "\n",
        "num_files = matriz_tf.get_shape()[0]\n",
        "q = query_tf.toarray().flatten()\n",
        "scalar_prod_TF = []\n",
        "for i in range(num_files):\n",
        "  doc = matriz_tf.getrow(i).toarray().flatten()\n",
        "  scalar_prod_TF.append(q @ doc )\n",
        "scalar_prod_TF"
      ],
      "execution_count": 10,
      "outputs": [
        {
          "output_type": "execute_result",
          "data": {
            "text/plain": [
              "[32, 4, 265, 7, 85]"
            ]
          },
          "metadata": {
            "tags": []
          },
          "execution_count": 10
        }
      ]
    },
    {
      "cell_type": "code",
      "metadata": {
        "id": "8CO-v-ZsUgVI",
        "colab_type": "code",
        "outputId": "0a336294-21f0-42b0-8a74-6a150e42a14c",
        "colab": {
          "base_uri": "https://localhost:8080/",
          "height": 34
        }
      },
      "source": [
        "#Similitud por Coseno TF\n",
        "\n",
        "from sklearn.metrics.pairwise import cosine_similarity\n",
        "\n",
        "cosine_similarity(query_tf, matriz_tf)"
      ],
      "execution_count": 11,
      "outputs": [
        {
          "output_type": "execute_result",
          "data": {
            "text/plain": [
              "array([[0.07960544, 0.01758297, 0.25982465, 0.04103896, 0.13234642]])"
            ]
          },
          "metadata": {
            "tags": []
          },
          "execution_count": 11
        }
      ]
    },
    {
      "cell_type": "markdown",
      "metadata": {
        "id": "8ISUvitTa65T",
        "colab_type": "text"
      },
      "source": [
        "**Inicializamos TfidfVectorizer (distintos pesos de los tokens) y tokenizamos el corpus**\n"
      ]
    },
    {
      "cell_type": "code",
      "metadata": {
        "id": "AibpBkzlVHA0",
        "colab_type": "code",
        "outputId": "3fba7be3-82c1-4cc1-ccfa-3d938aa6af3f",
        "colab": {
          "base_uri": "https://localhost:8080/",
          "height": 185
        }
      },
      "source": [
        "from sklearn.feature_extraction.text import TfidfVectorizer\n",
        "tfidf_vectorizer = TfidfVectorizer()\n",
        "matriz_tfidf = tfidf_vectorizer.fit_transform(corpus)\n",
        "#pesos de los tokens en cada documento\n",
        "matriz_tfidf.toarray()"
      ],
      "execution_count": 12,
      "outputs": [
        {
          "output_type": "execute_result",
          "data": {
            "text/plain": [
              "array([[0.        , 0.04673153, 0.        , ..., 0.        , 0.        ,\n",
              "        0.        ],\n",
              "       [0.        , 0.        , 0.        , ..., 0.        , 0.02424865,\n",
              "        0.0484973 ],\n",
              "       [0.        , 0.        , 0.0057586 , ..., 0.        , 0.        ,\n",
              "        0.        ],\n",
              "       [0.        , 0.02683986, 0.        , ..., 0.        , 0.        ,\n",
              "        0.        ],\n",
              "       [0.00777997, 0.        , 0.        , ..., 0.00777997, 0.        ,\n",
              "        0.        ]])"
            ]
          },
          "metadata": {
            "tags": []
          },
          "execution_count": 12
        }
      ]
    },
    {
      "cell_type": "code",
      "metadata": {
        "id": "7aIlBbe8WUQB",
        "colab_type": "code",
        "outputId": "bf02652f-15c2-411c-c9f9-fd957d5947e8",
        "colab": {
          "base_uri": "https://localhost:8080/",
          "height": 50
        }
      },
      "source": [
        "#peso de cada token en total\n",
        "tfidf_vectorizer.idf_"
      ],
      "execution_count": 13,
      "outputs": [
        {
          "output_type": "execute_result",
          "data": {
            "text/plain": [
              "array([2.09861229, 1.69314718, 2.09861229, ..., 2.09861229, 2.09861229,\n",
              "       2.09861229])"
            ]
          },
          "metadata": {
            "tags": []
          },
          "execution_count": 13
        }
      ]
    },
    {
      "cell_type": "code",
      "metadata": {
        "id": "ygxZbNkIffUv",
        "colab_type": "code",
        "colab": {
          "base_uri": "https://localhost:8080/",
          "height": 1000
        },
        "outputId": "446354a4-f3e7-4230-b314-9492bea13a33"
      },
      "source": [
        "tfidf_vectorizer.get_feature_names()"
      ],
      "execution_count": 14,
      "outputs": [
        {
          "output_type": "execute_result",
          "data": {
            "text/plain": [
              "['00',\n",
              " '000',\n",
              " '06',\n",
              " '10',\n",
              " '11',\n",
              " '12',\n",
              " '13',\n",
              " '14',\n",
              " '15',\n",
              " '16',\n",
              " '1636',\n",
              " '169',\n",
              " '170',\n",
              " '19',\n",
              " '1927',\n",
              " '1930',\n",
              " '1947',\n",
              " '1949',\n",
              " '1950',\n",
              " '1952',\n",
              " '1954',\n",
              " '1957',\n",
              " '1958',\n",
              " '1960s',\n",
              " '1965',\n",
              " '1975',\n",
              " '1983',\n",
              " '1989',\n",
              " '1995',\n",
              " '1996',\n",
              " '1997',\n",
              " '1999',\n",
              " '200',\n",
              " '2000',\n",
              " '2002',\n",
              " '2003',\n",
              " '2004',\n",
              " '2005',\n",
              " '2006',\n",
              " '2007',\n",
              " '2008',\n",
              " '2009',\n",
              " '2010',\n",
              " '20th',\n",
              " '21',\n",
              " '22',\n",
              " '24',\n",
              " '255',\n",
              " '27',\n",
              " '28',\n",
              " '29',\n",
              " '30',\n",
              " '3082243',\n",
              " '3082322',\n",
              " '30may09',\n",
              " '31st',\n",
              " '33',\n",
              " '35',\n",
              " '360',\n",
              " '39',\n",
              " '41',\n",
              " '42',\n",
              " '46',\n",
              " '49',\n",
              " '77',\n",
              " '80',\n",
              " '8216',\n",
              " '8217',\n",
              " '8220',\n",
              " '8221',\n",
              " '84',\n",
              " '92',\n",
              " 'aback',\n",
              " 'ability',\n",
              " 'about',\n",
              " 'above',\n",
              " 'absolutely',\n",
              " 'absorb',\n",
              " 'academic',\n",
              " 'academy',\n",
              " 'accept',\n",
              " 'accepting',\n",
              " 'accepts',\n",
              " 'access',\n",
              " 'accessories',\n",
              " 'accidentally',\n",
              " 'acclaim',\n",
              " 'account',\n",
              " 'accounting',\n",
              " 'accredited',\n",
              " 'accumulate',\n",
              " 'accumulating',\n",
              " 'achievement',\n",
              " 'acm',\n",
              " 'acquired',\n",
              " 'across',\n",
              " 'activate',\n",
              " 'activities',\n",
              " 'activity',\n",
              " 'actor',\n",
              " 'actress',\n",
              " 'actually',\n",
              " 'adapter',\n",
              " 'add',\n",
              " 'added',\n",
              " 'addition',\n",
              " 'administrative',\n",
              " 'admit',\n",
              " 'adult',\n",
              " 'advance',\n",
              " 'advantage',\n",
              " 'advertise',\n",
              " 'advertising',\n",
              " 'affiliated',\n",
              " 'afghanistan',\n",
              " 'africa',\n",
              " 'african',\n",
              " 'after',\n",
              " 'agent',\n",
              " 'ago',\n",
              " 'agreed',\n",
              " 'agriculture',\n",
              " 'aias',\n",
              " 'aiken',\n",
              " 'aim',\n",
              " 'aims',\n",
              " 'airline',\n",
              " 'albania',\n",
              " 'album',\n",
              " 'alert',\n",
              " 'alerts',\n",
              " 'algeria',\n",
              " 'algorithmic',\n",
              " 'alienware',\n",
              " 'aligned',\n",
              " 'all',\n",
              " 'allows',\n",
              " 'almanac',\n",
              " 'along',\n",
              " 'alongside',\n",
              " 'alright',\n",
              " 'also',\n",
              " 'although',\n",
              " 'alumni',\n",
              " 'am',\n",
              " 'america',\n",
              " 'american',\n",
              " 'amount',\n",
              " 'amp',\n",
              " 'an',\n",
              " 'analysis',\n",
              " 'and',\n",
              " 'andorra',\n",
              " 'angeles',\n",
              " 'angelina',\n",
              " 'angie',\n",
              " 'angola',\n",
              " 'anguilla',\n",
              " 'ani',\n",
              " 'announced',\n",
              " 'announcements',\n",
              " 'announces',\n",
              " 'annual',\n",
              " 'another',\n",
              " 'answer',\n",
              " 'antarc',\n",
              " 'antarctica',\n",
              " 'antigua',\n",
              " 'antilles',\n",
              " 'anton',\n",
              " 'any',\n",
              " 'anyone',\n",
              " 'aol',\n",
              " 'apparel',\n",
              " 'appear',\n",
              " 'appearances',\n",
              " 'appliances',\n",
              " 'application',\n",
              " 'applications',\n",
              " 'arabia',\n",
              " 'are',\n",
              " 'areas',\n",
              " 'argentina',\n",
              " 'armenia',\n",
              " 'around',\n",
              " 'arrest',\n",
              " 'arrow',\n",
              " 'art',\n",
              " 'article',\n",
              " 'articles',\n",
              " 'arts',\n",
              " 'aruba',\n",
              " 'as',\n",
              " 'ask',\n",
              " 'aspects',\n",
              " 'ass',\n",
              " 'assassin',\n",
              " 'assembles',\n",
              " 'associated',\n",
              " 'association',\n",
              " 'at',\n",
              " 'attack',\n",
              " 'attempt',\n",
              " 'attempting',\n",
              " 'attempts',\n",
              " 'audience',\n",
              " 'audio',\n",
              " 'august',\n",
              " 'australia',\n",
              " 'austria',\n",
              " 'automobiles',\n",
              " 'available',\n",
              " 'award',\n",
              " 'awards',\n",
              " 'away',\n",
              " 'aww',\n",
              " 'azerbaijan',\n",
              " 'b2b',\n",
              " 'baby',\n",
              " 'bachelor',\n",
              " 'back',\n",
              " 'backgrounds',\n",
              " 'bags',\n",
              " 'bahamas',\n",
              " 'bahrain',\n",
              " 'balls',\n",
              " 'ballsiest',\n",
              " 'band',\n",
              " 'bangladesh',\n",
              " 'bankruptcy',\n",
              " 'barack',\n",
              " 'barbados',\n",
              " 'barbuda',\n",
              " 'baron',\n",
              " 'base',\n",
              " 'based',\n",
              " 'basic',\n",
              " 'basket',\n",
              " 'bastard',\n",
              " 'basterds',\n",
              " 'battle',\n",
              " 'battling',\n",
              " 'bavaria',\n",
              " 'be',\n",
              " 'became',\n",
              " 'because',\n",
              " 'become',\n",
              " 'been',\n",
              " 'before',\n",
              " 'began',\n",
              " 'beginnings',\n",
              " 'behind',\n",
              " 'being',\n",
              " 'belarus',\n",
              " 'belgium',\n",
              " 'believed',\n",
              " 'belize',\n",
              " 'belongings',\n",
              " 'benin',\n",
              " 'bermuda',\n",
              " 'berry',\n",
              " 'best',\n",
              " 'between',\n",
              " 'beverage',\n",
              " 'bhutan',\n",
              " 'biatch',\n",
              " 'big',\n",
              " 'bigscreen',\n",
              " 'billys',\n",
              " 'birth',\n",
              " 'bissau',\n",
              " 'bit',\n",
              " 'black',\n",
              " 'blogs',\n",
              " 'blown',\n",
              " 'board',\n",
              " 'boarding',\n",
              " 'body',\n",
              " 'bolivia',\n",
              " 'bonus',\n",
              " 'book',\n",
              " 'bookmark',\n",
              " 'boost',\n",
              " 'born',\n",
              " 'bosnia',\n",
              " 'both',\n",
              " 'botswana',\n",
              " 'bottom',\n",
              " 'bouvet',\n",
              " 'boy',\n",
              " 'br',\n",
              " 'brad',\n",
              " 'branches',\n",
              " 'brand',\n",
              " 'brass',\n",
              " 'braveheart',\n",
              " 'brazil',\n",
              " 'breaking',\n",
              " 'brighton',\n",
              " 'britney',\n",
              " 'broady',\n",
              " 'brooklyn',\n",
              " 'brothers',\n",
              " 'bruce',\n",
              " 'brunei',\n",
              " 'bruno',\n",
              " 'brvbar',\n",
              " 'bulgaria',\n",
              " 'bullet',\n",
              " 'bump',\n",
              " 'burkina',\n",
              " 'burn',\n",
              " 'burning',\n",
              " 'burnout',\n",
              " 'burundi',\n",
              " 'bus',\n",
              " 'business',\n",
              " 'but',\n",
              " 'butler',\n",
              " 'butt',\n",
              " 'button',\n",
              " 'buy',\n",
              " 'buyer',\n",
              " 'buyers',\n",
              " 'by',\n",
              " 'bypass',\n",
              " 'cable',\n",
              " 'cacm',\n",
              " 'caicos',\n",
              " 'caledonia',\n",
              " 'california',\n",
              " 'called',\n",
              " 'calls',\n",
              " 'cambodia',\n",
              " 'cambridge',\n",
              " 'cameroon',\n",
              " 'can',\n",
              " 'canada',\n",
              " 'canal',\n",
              " 'canton',\n",
              " 'cape',\n",
              " 'capitol',\n",
              " 'car',\n",
              " 'card',\n",
              " 'care',\n",
              " 'carpet',\n",
              " 'carry',\n",
              " 'cars',\n",
              " 'cases',\n",
              " 'categories',\n",
              " 'cause',\n",
              " 'causing',\n",
              " 'cayman',\n",
              " 'cbs',\n",
              " 'celebrated',\n",
              " 'celebrifi',\n",
              " 'celebrities',\n",
              " 'celebrity',\n",
              " 'celebs',\n",
              " 'centers',\n",
              " 'central',\n",
              " 'centric',\n",
              " 'century',\n",
              " 'certain',\n",
              " 'chad',\n",
              " 'chaired',\n",
              " 'challenge',\n",
              " 'change',\n",
              " 'changed',\n",
              " 'changes',\n",
              " 'channel',\n",
              " 'charged',\n",
              " 'charges',\n",
              " 'charter',\n",
              " 'checked',\n",
              " 'checking',\n",
              " 'chemicals',\n",
              " 'chief',\n",
              " 'child',\n",
              " 'chile',\n",
              " 'china',\n",
              " 'chinese',\n",
              " 'choice',\n",
              " 'choose',\n",
              " 'chosen',\n",
              " 'christmas',\n",
              " 'chuck',\n",
              " 'circling',\n",
              " 'circuit',\n",
              " 'cited',\n",
              " 'city',\n",
              " 'clamshell',\n",
              " 'click',\n",
              " 'clicking',\n",
              " 'clinging',\n",
              " 'clint',\n",
              " 'clips',\n",
              " 'clooney',\n",
              " 'closer',\n",
              " 'club',\n",
              " 'clunky',\n",
              " 'cnet',\n",
              " 'co',\n",
              " 'cocos',\n",
              " 'code',\n",
              " 'cohen',\n",
              " 'collect',\n",
              " 'college',\n",
              " 'colombia',\n",
              " 'colonial',\n",
              " 'color',\n",
              " 'com',\n",
              " 'combat',\n",
              " 'combination',\n",
              " 'combo',\n",
              " 'combosaver',\n",
              " 'come',\n",
              " 'comment',\n",
              " 'commenting',\n",
              " 'comments',\n",
              " 'communications',\n",
              " 'community',\n",
              " 'comoros',\n",
              " 'company',\n",
              " 'compete',\n",
              " 'competed',\n",
              " 'competes',\n",
              " 'completely',\n",
              " 'completing',\n",
              " 'components',\n",
              " 'comprises',\n",
              " 'computation',\n",
              " 'computational',\n",
              " 'computer',\n",
              " 'computers',\n",
              " 'computing',\n",
              " 'concept',\n",
              " 'concerned',\n",
              " 'conditions',\n",
              " 'conference',\n",
              " 'congo',\n",
              " 'congratulate',\n",
              " 'considered',\n",
              " 'consisting',\n",
              " 'console',\n",
              " 'consoles',\n",
              " 'construction',\n",
              " 'consumer',\n",
              " 'contact',\n",
              " 'content',\n",
              " 'continents',\n",
              " 'continues',\n",
              " 'continuing',\n",
              " 'contributions',\n",
              " 'cook',\n",
              " 'copy',\n",
              " 'copyright',\n",
              " 'copyrights',\n",
              " 'corey',\n",
              " 'cornell',\n",
              " 'corporation',\n",
              " 'correct',\n",
              " 'costa',\n",
              " 'cote',\n",
              " 'could',\n",
              " 'couldn',\n",
              " 'countries',\n",
              " 'country',\n",
              " 'counts',\n",
              " 'couple',\n",
              " 'coverage',\n",
              " 'covers',\n",
              " 'crafts',\n",
              " 'crash',\n",
              " 'crashbreaker',\n",
              " 'crazy',\n",
              " 'create',\n",
              " 'created',\n",
              " 'creatures',\n",
              " 'credit',\n",
              " 'crime',\n",
              " 'criterion',\n",
              " 'critical',\n",
              " 'critics',\n",
              " 'croatia',\n",
              " 'cruz',\n",
              " 'css',\n",
              " 'cuba',\n",
              " 'cult',\n",
              " 'current',\n",
              " 'currently',\n",
              " 'custom',\n",
              " 'customize',\n",
              " 'cynthia',\n",
              " 'cyprus',\n",
              " 'czech',\n",
              " 'damn',\n",
              " 'dangerous',\n",
              " 'danube',\n",
              " 'data',\n",
              " 'databases',\n",
              " 'daughter',\n",
              " 'david',\n",
              " 'day',\n",
              " 'days',\n",
              " 'deal',\n",
              " 'dealmaking',\n",
              " 'death',\n",
              " 'deaths',\n",
              " 'deborah',\n",
              " 'decade',\n",
              " 'decades',\n",
              " 'decided',\n",
              " 'deemer',\n",
              " 'definition',\n",
              " 'degree',\n",
              " 'delivery',\n",
              " 'dell',\n",
              " 'demi',\n",
              " 'demographically',\n",
              " 'denmark',\n",
              " 'department',\n",
              " 'derives',\n",
              " 'describe',\n",
              " 'described',\n",
              " 'design',\n",
              " 'designated',\n",
              " 'designed',\n",
              " 'desktops',\n",
              " 'desperate',\n",
              " 'despise',\n",
              " 'determined',\n",
              " 'detonated',\n",
              " 'detonating',\n",
              " 'develop',\n",
              " 'developed',\n",
              " 'development',\n",
              " 'device',\n",
              " 'dictionary',\n",
              " 'did',\n",
              " 'didn',\n",
              " 'different',\n",
              " 'difficulties',\n",
              " 'dig',\n",
              " 'digital',\n",
              " 'direct',\n",
              " 'director',\n",
              " 'directory',\n",
              " 'discover',\n",
              " 'discretionary',\n",
              " 'discrimination',\n",
              " 'discussion',\n",
              " 'distributors',\n",
              " 'divided',\n",
              " 'division',\n",
              " 'djibouti',\n",
              " 'do',\n",
              " 'doctoral',\n",
              " 'documents',\n",
              " 'does',\n",
              " 'doesn',\n",
              " 'dolby',\n",
              " 'dollars',\n",
              " 'dominator',\n",
              " 'dominica',\n",
              " 'dominican',\n",
              " 'don',\n",
              " 'done',\n",
              " 'dotted',\n",
              " 'doubts',\n",
              " 'down',\n",
              " 'download',\n",
              " 'downloadable',\n",
              " 'downloads',\n",
              " 'downtown',\n",
              " 'dpr',\n",
              " 'dreamcast',\n",
              " 'dreaming',\n",
              " 'dress',\n",
              " 'drew',\n",
              " 'drifting',\n",
              " 'drink',\n",
              " 'drive',\n",
              " 'drives',\n",
              " 'driving',\n",
              " 'dro',\n",
              " 'ds',\n",
              " 'dual',\n",
              " 'dubin',\n",
              " 'dui',\n",
              " 'during',\n",
              " 'e3',\n",
              " 'ea',\n",
              " 'early',\n",
              " 'earn',\n",
              " 'earthquakes',\n",
              " 'east',\n",
              " 'eastwood',\n",
              " 'easy',\n",
              " 'ec21',\n",
              " 'eclipse',\n",
              " 'ecuador',\n",
              " 'editing',\n",
              " 'editor',\n",
              " 'editors',\n",
              " 'education',\n",
              " 'educational',\n",
              " 'edward',\n",
              " 'egypt',\n",
              " 'el',\n",
              " 'elected',\n",
              " 'elections',\n",
              " 'electrical',\n",
              " 'electrify',\n",
              " 'electronic',\n",
              " 'electronics',\n",
              " 'eliminator',\n",
              " 'elite',\n",
              " 'email',\n",
              " 'embarassed',\n",
              " 'emergency',\n",
              " 'emit',\n",
              " 'enclosures',\n",
              " 'encouraged',\n",
              " 'encyclopedia',\n",
              " 'end',\n",
              " 'ends',\n",
              " 'energy',\n",
              " 'engineer',\n",
              " 'enjoyed',\n",
              " 'ensues',\n",
              " 'enter',\n",
              " 'entertainment',\n",
              " 'environment',\n",
              " 'epstein',\n",
              " 'equipment',\n",
              " 'eritrea',\n",
              " 'especially',\n",
              " 'established',\n",
              " 'estate',\n",
              " 'estonia',\n",
              " 'et',\n",
              " 'etc',\n",
              " 'ethiopia',\n",
              " 'eurogamer',\n",
              " 'european',\n",
              " 'even',\n",
              " 'evening',\n",
              " 'event',\n",
              " 'events',\n",
              " 'ever',\n",
              " 'every',\n",
              " 'everywhere',\n",
              " 'example',\n",
              " 'excellence',\n",
              " 'excess',\n",
              " 'exclude',\n",
              " 'exist',\n",
              " 'expands',\n",
              " 'experience',\n",
              " 'explanatory',\n",
              " 'expo',\n",
              " 'extending',\n",
              " 'external',\n",
              " 'extra',\n",
              " 'eyewear',\n",
              " 'facebook',\n",
              " 'faces',\n",
              " 'factory',\n",
              " 'facts',\n",
              " 'faculty',\n",
              " 'falkland',\n",
              " 'fame',\n",
              " 'fanbase',\n",
              " 'faroe',\n",
              " 'fashion',\n",
              " 'faso',\n",
              " 'fast',\n",
              " 'feature',\n",
              " 'featured',\n",
              " 'features',\n",
              " 'featuring',\n",
              " 'february',\n",
              " 'fee',\n",
              " 'feed',\n",
              " 'feeling',\n",
              " 'fellow',\n",
              " 'female',\n",
              " 'few',\n",
              " 'fiction',\n",
              " 'field',\n",
              " 'fifth',\n",
              " 'fight',\n",
              " 'fiji',\n",
              " 'filing',\n",
              " 'film',\n",
              " 'filmifi',\n",
              " 'filming',\n",
              " 'final',\n",
              " 'fincher',\n",
              " 'find',\n",
              " 'fine',\n",
              " 'finland',\n",
              " 'fire',\n",
              " 'first',\n",
              " 'flagship',\n",
              " 'flip',\n",
              " 'flippin',\n",
              " 'florida',\n",
              " 'focus',\n",
              " 'focused',\n",
              " 'focuses',\n",
              " 'follow',\n",
              " 'following',\n",
              " 'follows',\n",
              " 'foo',\n",
              " 'food',\n",
              " 'for',\n",
              " 'foray',\n",
              " 'form',\n",
              " 'formed',\n",
              " 'forms',\n",
              " 'forum',\n",
              " 'forums',\n",
              " 'forward',\n",
              " 'found',\n",
              " 'foundations',\n",
              " 'founded',\n",
              " 'fourth',\n",
              " 'fox',\n",
              " 'foxx',\n",
              " 'france',\n",
              " 'franchise',\n",
              " 'franconia',\n",
              " 'free',\n",
              " 'frequencies',\n",
              " 'frequently',\n",
              " 'fresh',\n",
              " 'frock',\n",
              " 'from',\n",
              " 'fucker',\n",
              " 'full',\n",
              " 'fun',\n",
              " 'funnest',\n",
              " 'funny',\n",
              " 'furnishings',\n",
              " 'furniture',\n",
              " 'furthermore',\n",
              " 'gabon',\n",
              " 'gaga',\n",
              " 'gambia',\n",
              " 'game',\n",
              " 'gamecube',\n",
              " 'gamedaily',\n",
              " 'gameplay',\n",
              " 'games',\n",
              " 'gamespot',\n",
              " 'gamestop',\n",
              " 'gametrailers',\n",
              " 'gaming',\n",
              " 'garden',\n",
              " 'gauge',\n",
              " 'gave',\n",
              " 'geek',\n",
              " 'gen',\n",
              " 'general',\n",
              " 'generation',\n",
              " 'genre',\n",
              " 'george',\n",
              " 'georgia',\n",
              " 'gerard',\n",
              " 'gerhard',\n",
              " 'german',\n",
              " 'germany',\n",
              " 'get',\n",
              " 'gets',\n",
              " 'ghana',\n",
              " 'giarratana',\n",
              " 'gibraltar',\n",
              " 'gibson',\n",
              " 'gifts',\n",
              " 'gigex',\n",
              " 'give',\n",
              " 'given',\n",
              " 'gives',\n",
              " 'giving',\n",
              " 'glaad',\n",
              " 'global',\n",
              " 'glossary',\n",
              " 'go',\n",
              " 'golf',\n",
              " 'gong',\n",
              " 'gorgeous',\n",
              " 'gossip',\n",
              " 'got',\n",
              " 'grab',\n",
              " 'grabbed',\n",
              " 'grapevine',\n",
              " 'graphically',\n",
              " 'graphics',\n",
              " 'greece',\n",
              " 'greenland',\n",
              " 'grenada',\n",
              " 'group',\n",
              " 'grown',\n",
              " 'gt',\n",
              " 'guadeloupe',\n",
              " 'guam',\n",
              " 'guatemala',\n",
              " 'guest',\n",
              " 'guiana',\n",
              " 'guinea',\n",
              " 'guthrie',\n",
              " 'guy',\n",
              " 'guyana',\n",
              " 'guys',\n",
              " 'had',\n",
              " 'haim',\n",
              " 'haiti',\n",
              " 'half',\n",
              " 'hall',\n",
              " 'halle',\n",
              " 'halterneck',\n",
              " 'hand',\n",
              " 'handful',\n",
              " 'handheld',\n",
              " 'hangs',\n",
              " 'hard',\n",
              " 'hardware',\n",
              " 'harry',\n",
              " 'harvard',\n",
              " 'has',\n",
              " 'hasn',\n",
              " 'hathaway',\n",
              " 'have',\n",
              " 'having',\n",
              " 'he',\n",
              " 'headquarters',\n",
              " 'headsets',\n",
              " 'health',\n",
              " 'hearing',\n",
              " 'heavily',\n",
              " 'hebrides',\n",
              " 'heh',\n",
              " 'held',\n",
              " 'helena',\n",
              " 'helmer',\n",
              " 'helmet',\n",
              " 'help',\n",
              " 'her',\n",
              " 'here',\n",
              " 'hers',\n",
              " 'herzegowina',\n",
              " 'hidden',\n",
              " 'high',\n",
              " 'higher',\n",
              " 'highest',\n",
              " 'hilarity',\n",
              " 'hire',\n",
              " 'hired',\n",
              " 'his',\n",
              " 'historical',\n",
              " 'history',\n",
              " 'hits',\n",
              " 'hitters',\n",
              " 'holes',\n",
              " 'hollywierd',\n",
              " 'hollywood',\n",
              " 'homage',\n",
              " 'home',\n",
              " 'honduras',\n",
              " 'hong',\n",
              " 'honor',\n",
              " 'honored',\n",
              " 'honour',\n",
              " 'hope',\n",
              " 'horror',\n",
              " 'horseback',\n",
              " 'hospital',\n",
              " 'hosted',\n",
              " 'hot',\n",
              " 'hotness',\n",
              " 'hottest',\n",
              " 'hour',\n",
              " 'how',\n",
              " 'howard',\n",
              " 'however',\n",
              " 'http',\n",
              " 'huffington',\n",
              " 'hungary',\n",
              " 'hunter',\n",
              " 'hurt',\n",
              " 'ibm',\n",
              " 'iceland',\n",
              " 'idea',\n",
              " 'ideas',\n",
              " 'idol',\n",
              " 'idolizing',\n",
              " 'if',\n",
              " 'ign',\n",
              " 'image',\n",
              " 'implementation',\n",
              " 'import',\n",
              " 'important',\n",
              " 'importers',\n",
              " 'improved',\n",
              " 'improves',\n",
              " 'in',\n",
              " 'inc',\n",
              " 'include',\n",
              " 'includes',\n",
              " 'including',\n",
              " 'increases',\n",
              " 'increasing',\n",
              " 'index',\n",
              " 'india',\n",
              " 'individual',\n",
              " 'indonesia',\n",
              " 'inducted',\n",
              " 'induction',\n",
              " 'industrial',\n",
              " 'industry',\n",
              " 'influential',\n",
              " 'information',\n",
              " 'informed',\n",
              " 'informer',\n",
              " 'ing',\n",
              " 'inglourious',\n",
              " 'inquire',\n",
              " 'inquiries',\n",
              " 'inquiry',\n",
              " 'insane',\n",
              " 'inside',\n",
              " 'inspector',\n",
              " 'inspired',\n",
              " 'installment',\n",
              " 'institution',\n",
              " 'instruments',\n",
              " 'intended',\n",
              " 'intense',\n",
              " 'interactive',\n",
              " 'interest',\n",
              " 'interested',\n",
              " 'international',\n",
              " 'internet',\n",
              " 'interviews',\n",
              " 'into',\n",
              " 'introduces',\n",
              " 'inventory',\n",
              " 'ir',\n",
              " 'iran',\n",
              " 'iraq',\n",
              " 'ireland',\n",
              " 'is',\n",
              " 'isl',\n",
              " 'island',\n",
              " 'islands',\n",
              " 'israel',\n",
              " 'issue',\n",
              " 'it',\n",
              " 'italy',\n",
              " 'ithaca',\n",
              " 'its',\n",
              " 'ivoire',\n",
              " 'ivy',\n",
              " 'jacksonville',\n",
              " 'jamaica',\n",
              " 'jamie',\n",
              " 'january',\n",
              " 'japan',\n",
              " 'jennifer',\n",
              " 'jewelry',\n",
              " 'job',\n",
              " 'joe',\n",
              " 'johnston',\n",
              " 'join',\n",
              " 'joined',\n",
              " 'joint',\n",
              " 'jolie',\n",
              " 'jon',\n",
              " 'jonas',\n",
              " 'jordan',\n",
              " 'jordin',\n",
              " 'journal',\n",
              " 'journalism',\n",
              " 'jump',\n",
              " 'junction',\n",
              " 'junctions',\n",
              " 'june',\n",
              " 'just',\n",
              " 'kathryn',\n",
              " 'kazakhstan',\n",
              " 'keen',\n",
              " 'keep',\n",
              " 'kellar',\n",
              " 'kennedy',\n",
              " 'kensington',\n",
              " 'kenya',\n",
              " 'keywords',\n",
              " 'kilometres',\n",
              " ...]"
            ]
          },
          "metadata": {
            "tags": []
          },
          "execution_count": 14
        }
      ]
    },
    {
      "cell_type": "markdown",
      "metadata": {
        "id": "EYRAfSEOfoth",
        "colab_type": "text"
      },
      "source": [
        "**Transformamos la query en un vector**"
      ]
    },
    {
      "cell_type": "code",
      "metadata": {
        "id": "rGWMDzUVW_Hu",
        "colab_type": "code",
        "outputId": "f19b4edb-f81d-4626-8482-e4ed294438b2",
        "colab": {
          "base_uri": "https://localhost:8080/",
          "height": 34
        }
      },
      "source": [
        "query_tfidf = tfidf_vectorizer.transform(query)\n",
        "query_tfidf.toarray()"
      ],
      "execution_count": 15,
      "outputs": [
        {
          "output_type": "execute_result",
          "data": {
            "text/plain": [
              "array([[0., 0., 0., ..., 0., 0., 0.]])"
            ]
          },
          "metadata": {
            "tags": []
          },
          "execution_count": 15
        }
      ]
    },
    {
      "cell_type": "markdown",
      "metadata": {
        "id": "x56mHQ5bf1ZD",
        "colab_type": "text"
      },
      "source": [
        "**Analizamos la similitud de la query con los documentos**"
      ]
    },
    {
      "cell_type": "code",
      "metadata": {
        "id": "-OGfYre5SjkU",
        "colab_type": "code",
        "colab": {
          "base_uri": "https://localhost:8080/",
          "height": 101
        },
        "outputId": "5f898eff-8e58-4e30-d08e-738663f6120a"
      },
      "source": [
        "#Similitud por Producto Escalar TF IDF\n",
        "\n",
        "num_files = matriz_tfidf.get_shape()[0]\n",
        "\n",
        "# Calculo de tf*idf de las palabras de la query \n",
        "q_tfidf = query_tf.toarray().flatten() * tfidf_vectorizer.idf_.flatten()  \n",
        "\n",
        "scalar_prod_TFIDF = []\n",
        "for i in range(num_files):\n",
        "  doc_tfidf = matriz_tf.getrow(i).toarray().flatten() * tfidf_vectorizer.idf_.flatten()\n",
        "  scalar_prod_TFIDF.append(q_tfidf @ doc_tfidf )\n",
        "scalar_prod_TFIDF"
      ],
      "execution_count": 16,
      "outputs": [
        {
          "output_type": "execute_result",
          "data": {
            "text/plain": [
              "[37.672429377866834,\n",
              " 4.0,\n",
              " 674.5467239631978,\n",
              " 13.150606405687153,\n",
              " 163.48554785416889]"
            ]
          },
          "metadata": {
            "tags": []
          },
          "execution_count": 16
        }
      ]
    },
    {
      "cell_type": "code",
      "metadata": {
        "id": "QADF0QPDWdwd",
        "colab_type": "code",
        "outputId": "82e6c43c-0132-43dc-c0c8-7fb789d4a8dc",
        "colab": {
          "base_uri": "https://localhost:8080/",
          "height": 34
        }
      },
      "source": [
        "#Similitud por Coseno TF IDF\n",
        "\n",
        "cosine_similarity(query_tfidf, matriz_tfidf)"
      ],
      "execution_count": 17,
      "outputs": [
        {
          "output_type": "execute_result",
          "data": {
            "text/plain": [
              "array([[0.04379845, 0.00778745, 0.31187222, 0.03512459, 0.10211862]])"
            ]
          },
          "metadata": {
            "tags": []
          },
          "execution_count": 17
        }
      ]
    }
  ]
}